{
 "cells": [
  {
   "cell_type": "code",
   "execution_count": 74,
   "id": "68aeaf60",
   "metadata": {
    "pycharm": {
     "name": "#%%\n"
    }
   },
   "outputs": [
    {
     "name": "stdout",
     "output_type": "stream",
     "text": [
      "[8.400e-02 9.149e+03 1.352e+00]\n",
      "(5, 276)\n"
     ]
    }
   ],
   "source": [
    "from nn_hmc_3d import NN_HMC\n",
    "import dill\n",
    "import numpy as np\n",
    "import IPython\n",
    "import jax.random as random\n",
    "import jax.numpy as jnp\n",
    "import matplotlib\n",
    "import matplotlib.pyplot as plt\n",
    "import h5py\n",
    "from igm_emulator.emulator.plotVis import v_bins\n",
    "from igm_emulator.emulator.emulator_run import nn_emulator\n",
    "import os\n",
    "from progressbar import ProgressBar\n",
    "'''\n",
    "load model and auto-corr\n",
    "'''\n",
    "redshift = 5.4\n",
    "\n",
    "# get the appropriate string and pathlength for chosen redshift\n",
    "zs = np.array([5.4, 5.5, 5.6, 5.7, 5.8, 5.9, 6.0])\n",
    "z_idx = np.argmin(np.abs(zs - redshift))\n",
    "z_strings = ['z54', 'z55', 'z56', 'z57', 'z58', 'z59', 'z6']\n",
    "z_string = z_strings[z_idx]\n",
    "in_path_hdf5 = '/home/zhenyujin/igm_emulator/igm_emulator/emulator/best_params/'\n",
    "f = h5py.File(in_path_hdf5 + f'z{redshift}_nn_savefile.hdf5', 'r')\n",
    "emu_name = f'{z_string}_best_param_training_768.p'\n",
    "#IPython.embed()\n",
    "\n",
    "best_params = dill.load(open(in_path_hdf5 + emu_name, 'rb'))\n",
    "meanX = np.asarray(f['data']['meanX'])\n",
    "stdX = np.asarray(f['data']['stdX'])\n",
    "meanY = np.asarray(f['data']['meanY'])\n",
    "stdY =  np.asarray(f['data']['stdY'])\n",
    "print(meanX)\n",
    "#best_params = load(f)\n",
    "#print(f['performance']['residuals'])\n",
    "#print(f['best_params']['custom_linear/~/linear_0']['w'])\n",
    "#print(load(f'/home/zhenyujin/igm_emulator/igm_emulator/emulator/best_params/z{redshift}_nn_savefile.hdf5'))\n",
    "\n",
    "in_path = f'/mnt/quasar2/mawolfson/correlation_funct/temp_gamma/final/{z_string}/final_135/'\n",
    "n_paths = np.array([17, 16, 16, 15, 15, 15, 14]) #skewers_per_data\n",
    "n_path = n_paths[z_idx]\n",
    "vbins = v_bins\n",
    "param_in_path = '/mnt/quasar2/mawolfson/correlation_funct/temp_gamma/final/'\n",
    "param_dict = dill.load(open(param_in_path + f'{z_string}_params.p', 'rb'))\n",
    "\n",
    "fobs = param_dict['fobs']  # average observed flux <F> ~ Gamma_HI\n",
    "log_T0s = param_dict['log_T0s']  # log(T_0) from temperature - density relation\n",
    "T0s = np.power(10,log_T0s)\n",
    "gammas = param_dict['gammas']  # gamma from temperature - density relation\n",
    "\n",
    "T0_idx = 11 #0-14\n",
    "g_idx = 4 #0-8\n",
    "f_idx = 7 #0-8\n",
    "\n",
    "like_name = f'likelihood_dicts_R_30000_nf_9_T{T0_idx}_G{g_idx}_SNR0_F{f_idx}_ncovar_500000_P{n_path}_set_bins_4.p'\n",
    "like_dict = dill.load(open(in_path + like_name, 'rb'))\n",
    "mock_name = f'mocks_R_30000_nf_9_T{T0_idx}_G{g_idx}_SNR0_F{f_idx}_P{n_path}_set_bins_4.p'\n",
    "mocks = dill.load(open(in_path + mock_name, 'rb'))\n",
    "theta_true = [fobs[f_idx], T0s[T0_idx], gammas[g_idx]]\n",
    "\n",
    "mock_flux = mocks[0:5,:]\n",
    "mean_flux = like_dict['mean_data']\n",
    "print(mock_flux.shape)"
   ]
  },
  {
   "cell_type": "code",
   "execution_count": 72,
   "id": "4f4fa9fb",
   "metadata": {
    "pycharm": {
     "name": "#%%\n"
    }
   },
   "outputs": [
    {
     "name": "stdout",
     "output_type": "stream",
     "text": [
      "[0.099, 14177.571428571428, 1.3520000000000003]\n"
     ]
    }
   ],
   "source": [
    "print(theta_true)"
   ]
  },
  {
   "cell_type": "code",
   "execution_count": 3,
   "id": "ad80ca6a",
   "metadata": {
    "pycharm": {
     "name": "#%%\n"
    }
   },
   "outputs": [
    {
     "name": "stdout",
     "output_type": "stream",
     "text": [
      "[[9.90000000e-02 1.41775714e+04 1.35200000e+00]\n",
      " [9.90000000e-02 1.41775714e+04 1.35200000e+00]\n",
      " [9.90000000e-02 1.41775714e+04 1.35200000e+00]]\n",
      "(3, 3)\n",
      "(3, 3)\n"
     ]
    }
   ],
   "source": [
    "theta=jnp.array([theta_true,theta_true,theta_true])\n",
    "theta_i=theta.squeeze()\n",
    "print(theta)\n",
    "print(theta.shape)\n",
    "print(theta_i.shape)"
   ]
  },
  {
   "cell_type": "code",
   "execution_count": 76,
   "id": "f99cda80",
   "metadata": {
    "pycharm": {
     "name": "#%%\n"
    }
   },
   "outputs": [
    {
     "name": "stdout",
     "output_type": "stream",
     "text": [
      "(276,)\n",
      "(276,)\n",
      "(276,)\n",
      "(276,)\n",
      "(276,)\n"
     ]
    },
    {
     "data": {
      "image/png": "[encoded data removed]",
      "text/plain": [
       "<Figure size 432x288 with 1 Axes>"
      ]
     },
     "metadata": {
      "needs_background": "light"
     },
     "output_type": "display_data"
    }
   ],
   "source": [
    "model = nn_emulator(best_params, theta_true)\n",
    "\n",
    "fig2, axs2 = plt.subplots(1, 1)\n",
    "axs2.plot(vbins, model, label=f'Emulated' r'$<F>$='f'{theta_true[0]:.2f},'\n",
    "                                                     r'$T_0$='f'{theta_true[1]:.2f},'\n",
    "                                                     r'$\\gamma$='f'{theta_true[2]:.2f}')\n",
    "axs2.plot(vbins, mean_flux, label=f'mean', linestyle='--')\n",
    "for i in mock_flux:\n",
    "    axs2.plot(vbins, i, label=f'mock', linestyle='--',alpha = 0.5, color ='blue')\n",
    "plt.title('Test overplot in data space')\n",
    "plt.legend()\n",
    "plt.show()"
   ]
  },
  {
   "cell_type": "code",
   "execution_count": 5,
   "id": "d5cac54a",
   "metadata": {
    "pycharm": {
     "name": "#%%\n"
    }
   },
   "outputs": [],
   "source": [
    "    nn = NN_HMC(vbins,best_params,T0s,gammas,fobs,like_dict)\n",
    "    x_true = nn.theta_to_x(theta_true)\n",
    "    key = random.PRNGKey(642)\n",
    "    key, subkey = random.split(key)"
   ]
  },
  {
   "cell_type": "code",
   "execution_count": 6,
   "id": "64e87119",
   "metadata": {
    "pycharm": {
     "name": "#%%\n"
    }
   },
   "outputs": [],
   "source": [
    "    #x_samples, theta_samples, ln_probs, neff, neff_mean, \\\n",
    "    #sec_per_neff, ms_per_step, r_hat, r_hat_mean, \\\n",
    "    #hmc_num_steps, hmc_tree_depth, runtime = nn.mcmc_one(key, x_true, flux)"
   ]
  },
  {
   "cell_type": "code",
   "execution_count": 7,
   "id": "f093ad04",
   "metadata": {
    "pycharm": {
     "name": "#%%\n"
    }
   },
   "outputs": [
    {
     "name": "stdout",
     "output_type": "stream",
     "text": [
      "read in fine model grid\n",
      "0.0%\n",
      "7.142857142857142%\n",
      "14.285714285714285%\n",
      "21.428571428571427%\n",
      "28.57142857142857%\n",
      "35.714285714285715%\n",
      "42.857142857142854%\n",
      "50.0%\n",
      "57.14285714285714%\n",
      "64.28571428571429%\n",
      "71.42857142857143%\n",
      "78.57142857142857%\n",
      "85.71428571428571%\n",
      "92.85714285714286%\n",
      "done reading in\n"
     ]
    }
   ],
   "source": [
    "import sys\n",
    "sys.path.append('/home/zhenyujin/dw_inference/dw_inference/inference')\n",
    "from utils import walker_plot, corner_plot\n",
    "\n",
    "\n",
    "note = \"jit_2000_4_test12_compare_molly_mock0\"\n",
    "var_label = ['fobs', 'T0s', 'gammas']\n",
    "\n",
    "import sys\n",
    "sys.path.append('/home/zhenyujin/wdm/correlation/')\n",
    "from mcmc_inference_new_linda_params_mult_file_3d import return_idx, get_model_covar_nearest"
   ]
  },
  {
   "cell_type": "code",
   "execution_count": null,
   "outputs": [],
   "source": [
    "print(theta_samples.shape, x_samples.shape, np.swapaxes(jnp.asarray(x_samples), 0, 1).shape)"
   ],
   "metadata": {
    "collapsed": false,
    "pycharm": {
     "name": "#%%\n"
    }
   }
  },
  {
   "cell_type": "code",
   "execution_count": null,
   "outputs": [],
   "source": [
    "print(nn.potential_fun(theta_true),\n",
    "nn.log_likelihood(theta_true),\n",
    "nn.eval_prior(theta_true))"
   ],
   "metadata": {
    "collapsed": false,
    "pycharm": {
     "name": "#%%\n"
    }
   }
  },
  {
   "cell_type": "code",
   "execution_count": null,
   "outputs": [],
   "source": [
    "from nn_hmc_3d_x import NN_HMC_X\n",
    "n_inference = 0\n",
    "pbar = ProgressBar()\n",
    "new_covariance = like_dict['covariance']\n",
    "y_error = np.sqrt(np.diag(new_covariance))\n",
    "molly_name = f'z54_data_nearest_model_set_bins_4_steps_48000_mcmc_inference_5_one_prior_T{T0_idx}_G{g_idx}_F{f_idx}_R_30000.hdf5'\n",
    "molly_model = h5py.File(in_path + molly_name, 'r')\n",
    "for mock_idx in pbar(range(n_inference)): \n",
    "    mock_idx = 3\n",
    "    flux = mocks[mock_idx, :]\n",
    "    nn_x = NN_HMC_X(vbins,best_params,T0s,gammas,fobs,like_dict)\n",
    "    print(nn_x.potential_fun(x_true,flux),\n",
    "    nn_x.log_likelihood(x_true,flux),\n",
    "    nn_x.eval_prior(x_true))\n",
    "    x_samples, theta_samples, lnP, neff, neff_mean, sec_per_neff, ms_per_step, r_hat, r_hat_mean, \\\n",
    "                hmc_num_steps, hmc_tree_depth, total_time = nn_x.mcmc_one(key, x_true, flux)\n",
    "    f_mcmc, t_mcmc, g_mcmc = map(lambda v: (v[1], v[2] - v[1], v[1] - v[0]),\n",
    "                                 zip(*np.percentile(theta_samples, [16, 50, 84], axis=0)))\n",
    "\n",
    "    molly_sample = molly_model['samples'][mock_idx,:,:]\n",
    "    molly_flip = np.zeros(shape = molly_sample.shape)\n",
    "    molly_flip[:,0] = molly_sample[:,2]\n",
    "    molly_flip[:,1] = molly_sample[:,0]\n",
    "    molly_flip[:,2] = molly_sample[:,1]\n",
    "\n",
    "    t_molly, g_molly, f_molly = map(lambda v: (v[1], v[2] - v[1], v[1] - v[0]),\n",
    "                                     zip(*np.percentile(molly_sample, [16, 50, 84], axis=0)))\n",
    "    molly_infer, covar, log_det = get_model_covar_nearest([t_molly[0], g_molly[0],f_molly[0]])\n",
    "\n",
    "    corner_fig = corner.corner(np.array(theta_samples),levels=(0.68, 0.95),labels=var_label,\n",
    "                           truths=np.array(theta_true),truth_color='red',show_titles=True,\n",
    "                          title_kwargs={\"fontsize\": 15}, label_kwargs={'fontsize': 20},\n",
    "                            data_kwargs={'ms': 1.0, 'alpha': 0.1},)\n",
    "    corner.corner(molly_flip,levels=(0.68, 0.95),fig=corner_fig,color='blue')"
   ],
   "metadata": {
    "collapsed": false,
    "pycharm": {
     "name": "#%%\n"
    }
   }
  },
  {
   "cell_type": "code",
   "execution_count": null,
   "outputs": [],
   "source": [
    "import corner\n",
    "fig = corner_plot(theta_samples, var_label,\n",
    "            theta_true=jnp.asarray(theta_true),\n",
    "            overlay_color = ['k'])\n",
    "walker_plot(np.swapaxes(x_samples, 0, 1), var_label,\n",
    "                    truths= jnp.asarray(x_true),\n",
    "                    linewidth=1.0)"
   ],
   "metadata": {
    "collapsed": false,
    "pycharm": {
     "name": "#%%\n"
    }
   }
  },
  {
   "cell_type": "code",
   "execution_count": null,
   "outputs": [],
   "source": [
    "from matplotlib.ticker import MaxNLocator\n",
    "import matplotlib.patheffects as pe\n",
    "from tabulate import tabulate\n",
    "plt_params = {'legend.fontsize': 7,\n",
    "                  'legend.frameon': False,\n",
    "                  'axes.labelsize': 12,\n",
    "                  'axes.titlesize': 12,\n",
    "                  'figure.titlesize': 12,\n",
    "                  'xtick.labelsize': 12,\n",
    "                  'ytick.labelsize': 12,\n",
    "                  'lines.linewidth': .7,\n",
    "                  'lines.markersize': 2.3,\n",
    "                  'lines.markeredgewidth': .9,\n",
    "                  'errorbar.capsize': 2,\n",
    "                  'font.family': 'serif',\n",
    "                  # 'text.usetex': True,\n",
    "                  'xtick.minor.visible': True,\n",
    "                  }\n",
    "x_size = 5\n",
    "dpi_value = 200\n",
    "plt.rcParams.update(plt_params)\n",
    "\n",
    "fit_fig = plt.figure(figsize=(x_size*2., x_size*.65), constrained_layout=True,\n",
    "                         dpi=dpi_value,\n",
    "                         )\n",
    "grid = fit_fig.add_gridspec(\n",
    "        nrows=1, ncols=1,  # width_ratios=[3, 1, 1],\n",
    "    )\n",
    "\n",
    "fit_axis = fit_fig.add_subplot(grid[0])\n",
    "\n",
    "inds = np.random.randint(len(theta_samples), size=100)\n",
    "for idx, ind in enumerate(inds):\n",
    "    sample = theta_samples[ind]\n",
    "    model_plot = nn_emulator(best_params,sample)\n",
    "    molly,co,log_d= get_model_covar_nearest(molly_sample[ind])\n",
    "    if idx == 0:\n",
    "        fit_axis.plot(vbins, model_plot, c=\"b\", lw=.7, alpha=0.12, zorder=1, label='Posterior Draws')\n",
    "        fit_axis.plot(vbins, molly, c=\"yellow\", lw=.7, alpha=0.1, zorder=1, label='Old Posterior Draws')\n",
    "    else:\n",
    "        fit_axis.plot(vbins, model_plot, c=\"b\", lw=.7, alpha=0.12, zorder=1)\n",
    "        fit_axis.plot(vbins, molly, c=\"yellow\", lw=.7, alpha=0.1, zorder=1)\n",
    "            \n",
    "max_P = max(lnP)\n",
    "max_P_idx=[index for index, item in enumerate(lnP) if item == max_P]\n",
    "print(f'max_P:{theta_samples[max_P_idx,:][0]}')\n",
    "print(f'inferred:{[f_mcmc[0], t_mcmc[0], g_mcmc[0]]}')\n",
    "inferred_model_plot = nn_emulator(best_params,[f_mcmc[0], t_mcmc[0], g_mcmc[0]])\n",
    "max_P_model = nn_emulator(best_params,theta_samples[max_P_idx,:][0])\n",
    "mean_flux = like_dict['mean_data']\n",
    "fit_axis.plot(v_bins, inferred_model_plot, c=\"r\", label='Inferred Model', zorder=5,lw=1,\n",
    "                  path_effects=[pe.Stroke(linewidth=1.25, foreground='k'), pe.Normal()])\n",
    "fit_axis.plot(v_bins, mean_flux, c=\"lightgreen\", ls='--', label='True Model', zorder=2,lw=1.75,\n",
    "                  path_effects=[pe.Stroke(linewidth=2, foreground='k'), pe.Normal()])\n",
    "fit_axis.plot(v_bins, max_P_model, c=\"gold\", label='Max Probability Model', zorder=3,lw=1,\n",
    "                  path_effects=[pe.Stroke(linewidth=1.25, foreground='k'), pe.Normal()])\n",
    "fit_axis.errorbar(v_bins, flux,\n",
    "                      yerr=y_error,\n",
    "                      color='k', marker='.', linestyle=' ', zorder=1, capsize=0,\n",
    "                      label='Mock Data')\n",
    "fit_axis.plot(v_bins, molly_infer, c=\"m\", label='Old Model', zorder=4,lw=1,\n",
    "                  path_effects=[pe.Stroke(linewidth=1.25, foreground='k'), pe.Normal()])\n",
    "fit_axis.text(\n",
    "        500, 0.0248,\n",
    "        'True Model \\n'+r'$\\langle F \\rangle$'+f' = {np.round(theta_true[0], decimals=4)}'+ f'\\n $T_0$ = {int(theta_true[1])} K \\n $\\gamma$ = {np.round(theta_true[2], decimals=3)} \\n',\n",
    "        {'color': 'lightgreen', 'fontsize': 10},\n",
    "    )\n",
    "\n",
    "fit_axis.text(\n",
    "        1000, 0.024,\n",
    "        'Inferred Model \\n'+r'$\\langle F \\rangle$'+f' = {np.round(f_mcmc[0], decimals=4)}$^{{+{np.round(f_mcmc[1], decimals=4)}}}_{{-{np.round(f_mcmc[2], decimals=4)}}}$'+\n",
    "        f'\\n $T_0$ = {int(t_mcmc[0])}$^{{+{int(t_mcmc[1])}}}_{{-{int(t_mcmc[2])}}}$ K' \n",
    "        f'\\n '+r'$\\gamma$'+f' = {np.round(g_mcmc[0], decimals=3)}$^{{+{np.round(g_mcmc[1], decimals=3)}}}_{{-{np.round(g_mcmc[2], decimals=3)}}}$\\n',\n",
    "        {'color': 'r', 'fontsize': 10},\n",
    "    )\n",
    "#fit_axis.text(\n",
    "#        1510, 0.024,\n",
    "#     'Old inferred Model \\n'+r'$\\langle F \\rangle$'+f' = {np.round(f_molly[0], decimals=4)}$^{{+{np.round(f_molly[1], decimals=4)}}}_{{-{np.round(f_molly[2], decimals=4)}}}$'+\n",
    "#       f'\\n $T_0$ = {int(t_molly[0])}$^{{+{int(t_molly[1])}}}_{{-{int(t_molly[2])}}}$ K' \n",
    "#       f'\\n '+r'$\\gamma$'+f' = {np.round(g_molly[0], decimals=3)}$^{{+{np.round(g_molly[1], decimals=3)}}}_{{-{np.round(g_molly[2], decimals=3)}}}$\\n',\n",
    "#        {'color': 'm', 'fontsize': 10},\n",
    "#   )\n",
    "fit_axis.text(\n",
    "        1510, 0.026,\n",
    "      tabulate([[r' $R_2$', np.round(r2_score(flux, molly_infer), decimals=4),np.round(r2_score(flux, max_P_model), decimals=4)], \n",
    "                ['MSE', np.format_float_scientific(mean_squared_error(flux, molly_infer), precision=3),np.format_float_scientific(mean_squared_error(flux, max_P_model), precision=3)],\n",
    "               ['Distance',np.format_float_scientific(minkowski(flux, molly_infer), precision=3),np.format_float_scientific(minkowski(flux, molly_infer), precision=3)]], headers=['Matrices','Grid','Emulator'],tablefmt='orgtbl'),\n",
    "        {'color': 'm', 'fontsize': 10},\n",
    "   )\n",
    "fit_axis.set_xlim(vbins[0], vbins[-1])\n",
    "fit_axis.set_xlabel(\"Velocity (km/s)\")\n",
    "fit_axis.set_ylabel(\"Correlation Function\")\n",
    "fit_axis.legend()"
   ],
   "metadata": {
    "collapsed": false,
    "pycharm": {
     "name": "#%%\n"
    }
   }
  },
  {
   "cell_type": "code",
   "execution_count": null,
   "outputs": [],
   "source": [
    "out_path = '/home/zhenyujin/igm_emulator/igm_emulator/hmc/plots/'\n",
    "#fit_fig.savefig(out_path + f'model_fit_{note}.pdf')\n",
    "#corner_fig.savefig(out_path + f'corner_{note}.pdf')"
   ],
   "metadata": {
    "collapsed": false,
    "pycharm": {
     "name": "#%%\n"
    }
   }
  }
 ],
 "metadata": {
  "kernelspec": {
   "display_name": "Python 3",
   "language": "python",
   "name": "python3"
  },
  "language_info": {
   "codemirror_mode": {
    "name": "ipython",
    "version": 3
   },
   "file_extension": ".py",
   "mimetype": "text/x-python",
   "name": "python",
   "nbconvert_exporter": "python",
   "pygments_lexer": "ipython3",
   "version": "3.6.8"
  }
 },
 "nbformat": 4,
 "nbformat_minor": 5
}
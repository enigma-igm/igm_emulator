{
 "cells": [
  {
   "cell_type": "code",
   "execution_count": 1,
   "id": "68aeaf60",
   "metadata": {},
   "outputs": [
    {
     "name": "stdout",
     "output_type": "stream",
     "text": [
      "Layers: [100, 100, 100, 276]\n",
      "Activation: <function leaky_relu at 0x7ff7b5bf1e18>\n",
      "L2 regularization lambda: 0.0001\n",
      "meanX = [8.400e-02 9.149e+03 1.352e+00]\n",
      "stdX = [1.36930639e-02 5.50374022e+03 6.02494813e-01]\n",
      "train: (768, 3)\n",
      "(358, 276)\n",
      "[8.400e-02 9.149e+03 1.352e+00]\n"
     ]
    }
   ],
   "source": [
    "from nn_hmc_3d import NN_HMC\n",
    "import dill\n",
    "import numpy as np\n",
    "import IPython\n",
    "import jax.random as random\n",
    "import jax.numpy as jnp\n",
    "import matplotlib\n",
    "import matplotlib.pyplot as plt\n",
    "import h5py\n",
    "from igm_emulator.emulator.plotVis import v_bins\n",
    "from igm_emulator.emulator.emulator_run import nn_emulator\n",
    "import os\n",
    "'''\n",
    "load model and auto-corr\n",
    "'''\n",
    "redshift = 5.4\n",
    "\n",
    "# get the appropriate string and pathlength for chosen redshift\n",
    "zs = np.array([5.4, 5.5, 5.6, 5.7, 5.8, 5.9, 6.0])\n",
    "z_idx = np.argmin(np.abs(zs - redshift))\n",
    "z_strings = ['z54', 'z55', 'z56', 'z57', 'z58', 'z59', 'z6']\n",
    "z_string = z_strings[z_idx]\n",
    "in_path_hdf5 = '/home/zhenyujin/igm_emulator/igm_emulator/emulator/best_params/'\n",
    "f = h5py.File(in_path_hdf5 + f'z{redshift}_nn_savefile.hdf5', 'r')\n",
    "emu_name = f'{z_string}_best_param_training_768.p'\n",
    "#IPython.embed()\n",
    "\n",
    "best_params = dill.load(open(in_path_hdf5 + emu_name, 'rb'))\n",
    "meanX = np.asarray(f['data']['meanX'])\n",
    "stdX = np.asarray(f['data']['stdX'])\n",
    "meanY = np.asarray(f['data']['meanY'])\n",
    "stdY =  np.asarray(f['data']['stdY'])\n",
    "print(meanX)\n",
    "#best_params = load(f)\n",
    "#print(f['performance']['residuals'])\n",
    "#print(f['best_params']['custom_linear/~/linear_0']['w'])\n",
    "#print(load(f'/home/zhenyujin/igm_emulator/igm_emulator/emulator/best_params/z{redshift}_nn_savefile.hdf5'))\n",
    "\n",
    "in_path = f'/mnt/quasar2/mawolfson/correlation_funct/temp_gamma/final/{z_string}/final_135/'\n",
    "n_paths = np.array([17, 16, 16, 15, 15, 15, 14])\n",
    "n_path = n_paths[z_idx]\n",
    "vbins = v_bins\n",
    "param_in_path = '/mnt/quasar2/mawolfson/correlation_funct/temp_gamma/final/'\n",
    "param_dict = dill.load(open(param_in_path + f'{z_string}_params.p', 'rb'))\n",
    "\n",
    "fobs = param_dict['fobs']  # average observed flux <F> ~ Gamma_HI\n",
    "log_T0s = param_dict['log_T0s']  # log(T_0) from temperature - density relation\n",
    "T0s = np.exp(log_T0s)\n",
    "gammas = param_dict['gammas']  # gamma from temperature - density relation\n",
    "\n",
    "T0_idx = 11 #0-14\n",
    "g_idx = 4 #0-8\n",
    "f_idx = 7 #0-8\n",
    "\n",
    "like_name = f'likelihood_dicts_R_30000_nf_9_T{T0_idx}_G{g_idx}_SNR0_F{f_idx}_ncovar_500000_P{n_path}_set_bins_4.p'\n",
    "like_dict = dill.load(open(in_path + like_name, 'rb'))\n",
    "theta_true = [fobs[f_idx], T0s[T0_idx], gammas[g_idx]]"
   ]
  },
  {
   "cell_type": "code",
   "execution_count": 2,
   "id": "4f4fa9fb",
   "metadata": {},
   "outputs": [
    {
     "name": "stdout",
     "output_type": "stream",
     "text": [
      "[0.099, 63.53569309711353, 1.3520000000000003]\n"
     ]
    }
   ],
   "source": [
    "print(theta_true)"
   ]
  },
  {
   "cell_type": "code",
   "execution_count": 3,
   "id": "ad80ca6a",
   "metadata": {},
   "outputs": [
    {
     "name": "stdout",
     "output_type": "stream",
     "text": [
      "[[ 0.099     63.5356931  1.352    ]\n",
      " [ 0.099     63.5356931  1.352    ]\n",
      " [ 0.099     63.5356931  1.352    ]]\n",
      "(3, 3)\n",
      "(3, 3)\n"
     ]
    }
   ],
   "source": [
    "theta=jnp.array([theta_true,theta_true,theta_true])\n",
    "theta_i=theta.squeeze()\n",
    "print(theta)\n",
    "print(theta.shape)\n",
    "print(theta_i.shape)"
   ]
  },
  {
   "cell_type": "code",
   "execution_count": 4,
   "id": "f99cda80",
   "metadata": {},
   "outputs": [
    {
     "name": "stdout",
     "output_type": "stream",
     "text": [
      "<class 'list'>\n"
     ]
    },
    {
     "data": {
      "image/png": "[encoded data removed]",
      "text/plain": [
       "<Figure size 432x288 with 1 Axes>"
      ]
     },
     "metadata": {
      "needs_background": "light"
     },
     "output_type": "display_data"
    }
   ],
   "source": [
    "flux = like_dict['mean_data']\n",
    "print(type(theta_true))\n",
    "\n",
    "model = nn_emulator(best_params, theta_true)\n",
    "\n",
    "fig2, axs2 = plt.subplots(1, 1)\n",
    "axs2.plot(vbins, model, label=f'Emulated' r'$<F>$='f'{theta_true[0]:.2f},'\n",
    "                                                     r'$T_0$='f'{theta_true[1]:.2f},'\n",
    "                                                     r'$\\gamma$='f'{theta_true[2]:.2f}', alpha=0.3)\n",
    "axs2.plot(vbins, flux, label=f'Exact', linestyle='--')\n",
    "plt.title('Test overplot in data space')\n",
    "plt.legend()\n",
    "plt.show()"
   ]
  },
  {
   "cell_type": "code",
   "execution_count": null,
   "id": "d5cac54a",
   "metadata": {},
   "outputs": [
    {
     "name": "stderr",
     "output_type": "stream",
     "text": [
      "/home/zhenyujin/igm_emulator/igm_emulator/hmc/nn_hmc_3d.py:117: UserWarning: There are not enough devices to run parallel chains: expected 3 but got 1. Chains will be drawn sequentially. If you are running MCMC in CPU, consider using `numpyro.set_host_device_count(3)` at the beginning of your program. You can double-check how many devices are available in your system using `jax.local_device_count()`.\n",
      "  jit_model_args=True, chain_method='parallel')  # chain_method='sequential' chain_method='vectorized'\n"
     ]
    },
    {
     "name": "stdout",
     "output_type": "stream",
     "text": [
      "true theta:[0.099, 63.53569309711353, 1.3520000000000003]\n",
      "true x:[1.94591015e+00 2.00352811e+00 4.44089210e-16]\n",
      "theta draw=Traced<ShapedArray(float64[3])>with<JVPTrace(level=2/1)>\n",
      "  with primal = Traced<ShapedArray(float64[3]):JaxprTrace(level=1/1)>\n",
      "       tangent = Traced<ShapedArray(float64[3]):JaxprTrace(level=1/1)>\n",
      "prior theta:Traced<ShapedArray(float64[3])>with<JVPTrace(level=2/2)>\n",
      "  with primal = Traced<ShapedArray(float64[3]):JaxprTrace(level=1/2)>\n",
      "       tangent = Traced<ShapedArray(float64[3]):JaxprTrace(level=1/2)>\n",
      "x=Traced<ShapedArray(float64[3])>with<JVPTrace(level=2/2)>\n",
      "  with primal = Traced<ShapedArray(float64[3])>with<DynamicJaxprTrace(level=0/2)>\n",
      "       tangent = Traced<ShapedArray(float64[3]):JaxprTrace(level=1/2)>\n",
      "Prior=Traced<ShapedArray(float64[])>with<JVPTrace(level=2/2)>\n",
      "  with primal = Traced<ShapedArray(float64[])>with<DynamicJaxprTrace(level=0/2)>\n",
      "       tangent = Traced<ShapedArray(float64[]):JaxprTrace(level=1/2)>\n",
      "Log_likelihood=Traced<ShapedArray(float64[])>with<JVPTrace(level=2/2)>\n",
      "  with primal = Traced<ShapedArray(float64[])>with<DynamicJaxprTrace(level=0/2)>\n",
      "       tangent = Traced<ShapedArray(float64[]):JaxprTrace(level=1/2)>\n"
     ]
    },
    {
     "name": "stderr",
     "output_type": "stream",
     "text": [
      "\r",
      "  0%|          | 0/2000 [00:00<?, ?it/s]"
     ]
    },
    {
     "name": "stdout",
     "output_type": "stream",
     "text": [
      "theta draw=Traced<ShapedArray(float64[3])>with<JVPTrace(level=4/2)>\n",
      "  with primal = Traced<ShapedArray(float64[3]):JaxprTrace(level=3/2)>\n",
      "       tangent = Traced<ShapedArray(float64[3]):JaxprTrace(level=3/2)>\n",
      "prior theta:Traced<ShapedArray(float64[3])>with<JVPTrace(level=4/3)>\n",
      "  with primal = Traced<ShapedArray(float64[3]):JaxprTrace(level=3/3)>\n",
      "       tangent = Traced<ShapedArray(float64[3]):JaxprTrace(level=3/3)>\n",
      "x=Traced<ShapedArray(float64[3])>with<JVPTrace(level=4/3)>\n",
      "  with primal = Traced<ShapedArray(float64[3])>with<DynamicJaxprTrace(level=2/3)>\n",
      "       tangent = Traced<ShapedArray(float64[3]):JaxprTrace(level=3/3)>\n",
      "Prior=Traced<ShapedArray(float64[])>with<JVPTrace(level=4/3)>\n",
      "  with primal = Traced<ShapedArray(float64[])>with<DynamicJaxprTrace(level=2/3)>\n",
      "       tangent = Traced<ShapedArray(float64[]):JaxprTrace(level=3/3)>\n",
      "Log_likelihood=Traced<ShapedArray(float64[])>with<JVPTrace(level=4/3)>\n",
      "  with primal = Traced<ShapedArray(float64[])>with<DynamicJaxprTrace(level=2/3)>\n",
      "       tangent = Traced<ShapedArray(float64[]):JaxprTrace(level=3/3)>\n"
     ]
    },
    {
     "name": "stderr",
     "output_type": "stream",
     "text": [
      "sample: 100%|██████████| 2000/2000 [05:04<00:00,  6.56it/s, 7 steps of size 6.07e-01. acc. prob=0.83]   \n",
      "sample: 100%|██████████| 2000/2000 [05:00<00:00,  6.66it/s, 7 steps of size 5.05e-01. acc. prob=0.87]   \n",
      "warmup:  20%|██        | 402/2000 [01:04<04:58,  5.36it/s, 15 steps of size 2.46e-01. acc. prob=0.78]  "
     ]
    }
   ],
   "source": [
    "    nn = NN_HMC(vbins,best_params,T0s,gammas,fobs,like_dict)\n",
    "    key = random.PRNGKey(42)\n",
    "    key, subkey = random.split(key)\n",
    "    x_samples, samples, ln_probs, neff, neff_mean, \\\n",
    "    sec_per_neff, ms_per_step, r_hat, r_hat_mean, \\\n",
    "    hmc_num_steps, hmc_tree_depth, runtime = nn.mcmc_one(key, theta_true, flux)"
   ]
  },
  {
   "cell_type": "code",
   "execution_count": null,
   "id": "f093ad04",
   "metadata": {},
   "outputs": [],
   "source": [
    "nn.plot_HMC(x_samples,samples,theta_true,\"jit_2000_3\")"
   ]
  },
  {
   "cell_type": "code",
   "execution_count": null,
   "id": "714847ba",
   "metadata": {},
   "outputs": [],
   "source": []
  }
 ],
 "metadata": {
  "kernelspec": {
   "display_name": "Python 3",
   "language": "python",
   "name": "python3"
  },
  "language_info": {
   "codemirror_mode": {
    "name": "ipython",
    "version": 3
   },
   "file_extension": ".py",
   "mimetype": "text/x-python",
   "name": "python",
   "nbconvert_exporter": "python",
   "pygments_lexer": "ipython3",
   "version": "3.6.8"
  }
 },
 "nbformat": 4,
 "nbformat_minor": 5
}

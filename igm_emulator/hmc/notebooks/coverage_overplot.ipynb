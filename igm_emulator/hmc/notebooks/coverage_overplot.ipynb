{
 "cells": [
  {
   "cell_type": "code",
   "execution_count": 1,
   "id": "d87d37da",
   "metadata": {},
   "outputs": [
    {
     "ename": "ModuleNotFoundError",
     "evalue": "No module named 'pypeit'",
     "output_type": "error",
     "traceback": [
      "\u001b[0;31m---------------------------------------------------------------------------\u001b[0m",
      "\u001b[0;31mModuleNotFoundError\u001b[0m                       Traceback (most recent call last)",
      "Cell \u001b[0;32mIn[1], line 8\u001b[0m\n\u001b[1;32m      6\u001b[0m sys\u001b[38;5;241m.\u001b[39mpath\u001b[38;5;241m.\u001b[39mappend(\u001b[38;5;124m'\u001b[39m\u001b[38;5;124m/home/zhenyujin/qso_fitting/\u001b[39m\u001b[38;5;124m'\u001b[39m)\n\u001b[1;32m      7\u001b[0m \u001b[38;5;28;01mimport\u001b[39;00m \u001b[38;5;21;01mh5py\u001b[39;00m\n\u001b[0;32m----> 8\u001b[0m \u001b[38;5;28;01mfrom\u001b[39;00m \u001b[38;5;21;01mqso_fitting\u001b[39;00m\u001b[38;5;21;01m.\u001b[39;00m\u001b[38;5;21;01manalysis\u001b[39;00m\u001b[38;5;21;01m.\u001b[39;00m\u001b[38;5;21;01minference_test\u001b[39;00m \u001b[38;5;28;01mimport\u001b[39;00m run_inference_test, compute_importance_weights, C_ge\n",
      "File \u001b[0;32m~/qso_fitting/qso_fitting/analysis/inference_test.py:11\u001b[0m\n\u001b[1;32m      9\u001b[0m \u001b[38;5;28;01mfrom\u001b[39;00m \u001b[38;5;21;01msklearn\u001b[39;00m\u001b[38;5;21;01m.\u001b[39;00m\u001b[38;5;21;01misotonic\u001b[39;00m \u001b[38;5;28;01mimport\u001b[39;00m IsotonicRegression\n\u001b[1;32m     10\u001b[0m \u001b[38;5;28;01mfrom\u001b[39;00m \u001b[38;5;21;01mIPython\u001b[39;00m \u001b[38;5;28;01mimport\u001b[39;00m embed\n\u001b[0;32m---> 11\u001b[0m \u001b[38;5;28;01mfrom\u001b[39;00m \u001b[38;5;21;01mpypeit\u001b[39;00m\u001b[38;5;21;01m.\u001b[39;00m\u001b[38;5;21;01mcore\u001b[39;00m \u001b[38;5;28;01mimport\u001b[39;00m fitting\n\u001b[1;32m     12\u001b[0m \u001b[38;5;28;01mimport\u001b[39;00m \u001b[38;5;21;01mcorner\u001b[39;00m\n\u001b[1;32m     15\u001b[0m alpha_vec_1_2_sigma \u001b[38;5;241m=\u001b[39m np\u001b[38;5;241m.\u001b[39marray([scipy\u001b[38;5;241m.\u001b[39mstats\u001b[38;5;241m.\u001b[39mnorm\u001b[38;5;241m.\u001b[39mcdf(\u001b[38;5;241m1.0\u001b[39m) \u001b[38;5;241m-\u001b[39m scipy\u001b[38;5;241m.\u001b[39mstats\u001b[38;5;241m.\u001b[39mnorm\u001b[38;5;241m.\u001b[39mcdf(\u001b[38;5;241m-\u001b[39m\u001b[38;5;241m1.0\u001b[39m), scipy\u001b[38;5;241m.\u001b[39mstats\u001b[38;5;241m.\u001b[39mnorm\u001b[38;5;241m.\u001b[39mcdf(\u001b[38;5;241m2.0\u001b[39m) \u001b[38;5;241m-\u001b[39m scipy\u001b[38;5;241m.\u001b[39mstats\u001b[38;5;241m.\u001b[39mnorm\u001b[38;5;241m.\u001b[39mcdf(\u001b[38;5;241m-\u001b[39m\u001b[38;5;241m2.0\u001b[39m)])\n",
      "\u001b[0;31mModuleNotFoundError\u001b[0m: No module named 'pypeit'"
     ]
    }
   ],
   "source": [
    "import matplotlib\n",
    "import matplotlib.pyplot as plt\n",
    "import numpy as np\n",
    "import sys\n",
    "import os\n",
    "sys.path.append('/home/zhenyujin/qso_fitting/')\n",
    "import h5py\n",
    "from qso_fitting.analysis.inference_test import run_inference_test, compute_importance_weights, C_ge"
   ]
  },
  {
   "cell_type": "code",
   "execution_count": null,
   "id": "c19eef1d",
   "metadata": {},
   "outputs": [],
   "source": [
    "x_size = 3.5\n",
    "dpi_value = 200\n",
    "\n",
    "plt_params = {'legend.fontsize': 7,\n",
    "              'legend.frameon': False,\n",
    "              'axes.labelsize': 8,\n",
    "              'axes.titlesize': 8,\n",
    "              'figure.titlesize': 7,\n",
    "              'xtick.labelsize': 7,\n",
    "              'ytick.labelsize': 7,\n",
    "              'lines.linewidth': .7,\n",
    "              'lines.markersize': 2.3,\n",
    "              'lines.markeredgewidth': .9,\n",
    "              'errorbar.capsize': 2,\n",
    "              'font.family': 'serif',\n",
    "              # 'text.usetex': True,\n",
    "              'xtick.minor.visible': True,\n",
    "              }\n",
    "plt.rcParams.update(plt_params)\n",
    "\n",
    "out_path = '/mnt/quasar2/zhenyujin/igm_emulator/hmc/hmc_results/'"
   ]
  },
  {
   "cell_type": "code",
   "execution_count": null,
   "id": "192e22dd",
   "metadata": {},
   "outputs": [],
   "source": [
    "def coverage_overplot(test_nums):\n",
    "    alpha_vec = np.concatenate((np.linspace(0.00, 0.994, num=100), np.linspace(0.995, 1.0, num=51)))\n",
    "    inference_fig = plt.figure(figsize=(x_size, x_size * .9), constrained_layout=True,\n",
    "                                   dpi=dpi_value,\n",
    "                                   )\n",
    "    grid = inference_fig.add_gridspec(nrows=1, ncols=1)\n",
    "    skew_ax = inference_fig.add_subplot(grid[0])\n",
    "    for i, num in enumerate(test_nums):\n",
    "        file_name = f'z54_train_55_bin59_seed_11_inference_100_gaussian_mocks_emulator_seed_36_samples_1000_chains_4_nn_err_prop_True{num}'\n",
    "        f = h5py.File(out_path + file_name +'.hdf5','r+')    \n",
    "        log_prob_x = f['log_prob_x']\n",
    "        true_log_prob_x = f['true_log_prob_x']\n",
    "        coverage_gauss, coverage_gauss_lo, coverage_gauss_hi = run_inference_test(alpha_vec, log_prob_x,\n",
    "                                                                                  true_log_prob_x,\n",
    "                                                                                  title=num, show=False)\n",
    "        skew_ax.plot(alpha_vec, coverage_gauss, color=f'C{i}', linestyle='solid', label='inference test points',\n",
    "                     zorder=10)\n",
    "        skew_ax.fill_between(alpha_vec, coverage_gauss_lo, coverage_gauss_hi, facecolor=f'C{i}', alpha=0.8, zorder=3)\n",
    "    x_vec = np.linspace(0.0, 1.0, 11)\n",
    "    skew_ax.plot(x_vec, x_vec, linewidth=1.5, color='red', linestyle=(0, (5, 10)), zorder=20,\n",
    "                     label='inferred model')\n",
    "    skew_ax.set_xlim((-0.01, 1.01))\n",
    "    skew_ax.set_ylim((-0.01, 1.01))\n",
    "    skew_ax.set_xlabel(r'$P_{{\\rm true}}$', fontsize=16)\n",
    "    skew_ax.set_ylabel(r'$P_{{\\rm inf}}$', fontsize=16)\n"
   ]
  },
  {
   "cell_type": "code",
   "execution_count": null,
   "id": "602ec8e8",
   "metadata": {},
   "outputs": [],
   "source": []
  }
 ],
 "metadata": {
  "kernelspec": {
   "display_name": "Python 3 (ipykernel)",
   "language": "python",
   "name": "python3"
  },
  "language_info": {
   "codemirror_mode": {
    "name": "ipython",
    "version": 3
   },
   "file_extension": ".py",
   "mimetype": "text/x-python",
   "name": "python",
   "nbconvert_exporter": "python",
   "pygments_lexer": "ipython3",
   "version": "3.9.12"
  }
 },
 "nbformat": 4,
 "nbformat_minor": 5
}

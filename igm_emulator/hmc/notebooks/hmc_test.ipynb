{
 "cells": [
  {
   "cell_type": "code",
   "execution_count": 4,
   "id": "68aeaf60",
   "metadata": {
    "pycharm": {
     "name": "#%%\n"
    }
   },
   "outputs": [
    {
     "name": "stderr",
     "output_type": "stream",
     "text": [
      "No GPU/TPU found, falling back to CPU. (Set TF_CPP_MIN_LOG_LEVEL=0 and rerun for more info.)\n"
     ]
    },
    {
     "name": "stdout",
     "output_type": "stream",
     "text": [
      "64\n",
      "Training for small bin: True\n",
      "Layers: [100, 100, 100, 59]\n",
      "Activation: <PjitFunction of <function leaky_relu at 0x7fb91f6875e0>>\n",
      "L2 regularization lambda: 0.0001\n",
      "meanX = [8.010e-02 9.149e+03 1.352e+00]\n",
      "stdX = [1.67055380e-02 5.50374022e+03 6.02494813e-01]\n",
      "train: (768, 3)\n",
      "(358, 59)\n",
      "<KeysViewHDF5 ['data', 'haiku_nn', 'performance']>\n",
      "64\n",
      "[8.400e-02 9.149e+03 1.352e+00]\n",
      "(5, 276)\n"
     ]
    }
   ],
   "source": [
    "from nn_hmc_3d_x import NN_HMC_X\n",
    "import dill\n",
    "import numpy as np\n",
    "import IPython\n",
    "import jax.random as random\n",
    "import jax.numpy as jnp\n",
    "import matplotlib\n",
    "import matplotlib.pyplot as plt\n",
    "import h5py\n",
    "import sys\n",
    "import os\n",
    "sys.path.append(os.path.expanduser('~') + '/igm_emulator/igm_emulator/emulator')\n",
    "from emulator_run import nn_emulator\n",
    "from plotVis import v_bins\n",
    "from progressbar import ProgressBar\n",
    "'''\n",
    "load model and auto-corr\n",
    "'''\n",
    "redshift = 5.4\n",
    "\n",
    "# get the appropriate string and pathlength for chosen redshift\n",
    "zs = np.array([5.4, 5.5, 5.6, 5.7, 5.8, 5.9, 6.0])\n",
    "z_idx = np.argmin(np.abs(zs - redshift))\n",
    "z_strings = ['z54', 'z55', 'z56', 'z57', 'z58', 'z59', 'z6']\n",
    "z_string = z_strings[z_idx]\n",
    "in_path_hdf5 = '/home/zhenyujin/igm_emulator/igm_emulator/emulator/best_params/'\n",
    "f = h5py.File(in_path_hdf5 + f'z{redshift}_nn_savefile.hdf5', 'r')\n",
    "emu_name = f'{z_string}_best_param_training_768.p'\n",
    "#IPython.embed()\n",
    "\n",
    "best_params = dill.load(open(in_path_hdf5 + emu_name, 'rb'))\n",
    "meanX = np.asarray(f['data']['meanX'])\n",
    "stdX = np.asarray(f['data']['stdX'])\n",
    "meanY = np.asarray(f['data']['meanY'])\n",
    "stdY =  np.asarray(f['data']['stdY'])\n",
    "print(meanX)\n",
    "#best_params = load(f)\n",
    "#print(f['performance']['residuals'])\n",
    "#print(f['best_params']['custom_linear/~/linear_0']['w'])\n",
    "#print(load(f'/home/zhenyujin/igm_emulator/igm_emulator/emulator/best_params/z{redshift}_nn_savefile.hdf5'))\n",
    "\n",
    "in_path = f'/mnt/quasar2/mawolfson/correlation_funct/temp_gamma/final/{z_string}/final_135/'\n",
    "n_paths = np.array([17, 16, 16, 15, 15, 15, 14]) #skewers_per_data\n",
    "n_path = n_paths[z_idx]\n",
    "vbins = v_bins\n",
    "param_in_path = '/mnt/quasar2/mawolfson/correlation_funct/temp_gamma/final/'\n",
    "param_dict = dill.load(open(param_in_path + f'{z_string}_params.p', 'rb'))\n",
    "\n",
    "fobs = param_dict['fobs']  # average observed flux <F> ~ Gamma_HI\n",
    "log_T0s = param_dict['log_T0s']  # log(T_0) from temperature - density relation\n",
    "T0s = np.power(10,log_T0s)\n",
    "gammas = param_dict['gammas']  # gamma from temperature - density relation\n",
    "\n",
    "T0_idx = 11 #0-14\n",
    "g_idx = 4 #0-8\n",
    "f_idx = 7 #0-8\n",
    "\n",
    "like_name = f'likelihood_dicts_R_30000_nf_9_T{T0_idx}_G{g_idx}_SNR0_F{f_idx}_ncovar_500000_P{n_path}_set_bins_4.p'\n",
    "like_dict = dill.load(open(in_path + like_name, 'rb'))\n",
    "mock_name = f'mocks_R_30000_nf_9_T{T0_idx}_G{g_idx}_SNR0_F{f_idx}_P{n_path}_set_bins_4.p'\n",
    "mocks = dill.load(open(in_path + mock_name, 'rb'))\n",
    "theta_true = [fobs[f_idx], T0s[T0_idx], gammas[g_idx]]\n",
    "\n",
    "mock_flux = mocks[0:5,:]\n",
    "mean_flux = like_dict['mean_data']\n",
    "print(mock_flux.shape)"
   ]
  },
  {
   "cell_type": "code",
   "execution_count": 5,
   "id": "4f4fa9fb",
   "metadata": {
    "pycharm": {
     "name": "#%%\n"
    }
   },
   "outputs": [
    {
     "name": "stdout",
     "output_type": "stream",
     "text": [
      "[0.099, 14177.571428571428, 1.3520000000000003]\n"
     ]
    }
   ],
   "source": [
    "print(theta_true)"
   ]
  },
  {
   "cell_type": "code",
   "execution_count": 6,
   "id": "ad80ca6a",
   "metadata": {
    "pycharm": {
     "name": "#%%\n"
    }
   },
   "outputs": [
    {
     "name": "stdout",
     "output_type": "stream",
     "text": [
      "[[9.90000000e-02 1.41775714e+04 1.35200000e+00]\n",
      " [9.90000000e-02 1.41775714e+04 1.35200000e+00]\n",
      " [9.90000000e-02 1.41775714e+04 1.35200000e+00]]\n",
      "(3, 3)\n",
      "(3, 3)\n"
     ]
    }
   ],
   "source": [
    "theta=jnp.array([theta_true,theta_true,theta_true])\n",
    "theta_i=theta.squeeze()\n",
    "print(theta)\n",
    "print(theta.shape)\n",
    "print(theta_i.shape)"
   ]
  },
  {
   "cell_type": "code",
   "execution_count": 7,
   "id": "f99cda80",
   "metadata": {
    "pycharm": {
     "name": "#%%\n"
    }
   },
   "outputs": [
    {
     "ename": "ValueError",
     "evalue": "'custom_linear/~/linear_3/w' with retrieved shape (100, 276) does not match shape=[100, 59] dtype=dtype('float64')",
     "output_type": "error",
     "traceback": [
      "\u001b[0;31m---------------------------------------------------------------------------\u001b[0m",
      "\u001b[0;31mValueError\u001b[0m                                Traceback (most recent call last)",
      "Cell \u001b[0;32mIn[7], line 1\u001b[0m\n\u001b[0;32m----> 1\u001b[0m model \u001b[38;5;241m=\u001b[39m \u001b[43mnn_emulator\u001b[49m\u001b[43m(\u001b[49m\u001b[43mbest_params\u001b[49m\u001b[43m,\u001b[49m\u001b[43m \u001b[49m\u001b[43mtheta_true\u001b[49m\u001b[43m)\u001b[49m\n\u001b[1;32m      3\u001b[0m fig2, axs2 \u001b[38;5;241m=\u001b[39m plt\u001b[38;5;241m.\u001b[39msubplots(\u001b[38;5;241m1\u001b[39m, \u001b[38;5;241m1\u001b[39m)\n\u001b[1;32m      4\u001b[0m axs2\u001b[38;5;241m.\u001b[39mplot(vbins, model, label\u001b[38;5;241m=\u001b[39m\u001b[38;5;124mf\u001b[39m\u001b[38;5;124m'\u001b[39m\u001b[38;5;124mEmulated\u001b[39m\u001b[38;5;124m'\u001b[39m \u001b[38;5;124mr\u001b[39m\u001b[38;5;124m'\u001b[39m\u001b[38;5;124m$<F>$=\u001b[39m\u001b[38;5;124m'\u001b[39m\u001b[38;5;124mf\u001b[39m\u001b[38;5;124m'\u001b[39m\u001b[38;5;132;01m{\u001b[39;00mtheta_true[\u001b[38;5;241m0\u001b[39m]\u001b[38;5;132;01m:\u001b[39;00m\u001b[38;5;124m.2f\u001b[39m\u001b[38;5;132;01m}\u001b[39;00m\u001b[38;5;124m,\u001b[39m\u001b[38;5;124m'\u001b[39m\n\u001b[1;32m      5\u001b[0m                                                      \u001b[38;5;124mr\u001b[39m\u001b[38;5;124m'\u001b[39m\u001b[38;5;124m$T_0$=\u001b[39m\u001b[38;5;124m'\u001b[39m\u001b[38;5;124mf\u001b[39m\u001b[38;5;124m'\u001b[39m\u001b[38;5;132;01m{\u001b[39;00mtheta_true[\u001b[38;5;241m1\u001b[39m]\u001b[38;5;132;01m:\u001b[39;00m\u001b[38;5;124m.2f\u001b[39m\u001b[38;5;132;01m}\u001b[39;00m\u001b[38;5;124m,\u001b[39m\u001b[38;5;124m'\u001b[39m\n\u001b[1;32m      6\u001b[0m                                                      \u001b[38;5;124mr\u001b[39m\u001b[38;5;124m'\u001b[39m\u001b[38;5;124m$\u001b[39m\u001b[38;5;124m\\\u001b[39m\u001b[38;5;124mgamma$=\u001b[39m\u001b[38;5;124m'\u001b[39m\u001b[38;5;124mf\u001b[39m\u001b[38;5;124m'\u001b[39m\u001b[38;5;132;01m{\u001b[39;00mtheta_true[\u001b[38;5;241m2\u001b[39m]\u001b[38;5;132;01m:\u001b[39;00m\u001b[38;5;124m.2f\u001b[39m\u001b[38;5;132;01m}\u001b[39;00m\u001b[38;5;124m'\u001b[39m)\n",
      "File \u001b[0;32m~/igm_emulator/igm_emulator/emulator/emulator_run.py:36\u001b[0m, in \u001b[0;36mnn_emulator\u001b[0;34m(best_params, theta)\u001b[0m\n\u001b[1;32m     34\u001b[0m \u001b[38;5;28;01mdef\u001b[39;00m \u001b[38;5;21mnn_emulator\u001b[39m(best_params,theta):\n\u001b[1;32m     35\u001b[0m     x \u001b[38;5;241m=\u001b[39m (theta \u001b[38;5;241m-\u001b[39m meanX)\u001b[38;5;241m/\u001b[39m stdX\n\u001b[0;32m---> 36\u001b[0m     model \u001b[38;5;241m=\u001b[39m \u001b[43mcustom_forward\u001b[49m\u001b[38;5;241;43m.\u001b[39;49m\u001b[43mapply\u001b[49m\u001b[43m(\u001b[49m\u001b[43mparams\u001b[49m\u001b[38;5;241;43m=\u001b[39;49m\u001b[43mbest_params\u001b[49m\u001b[43m,\u001b[49m\u001b[43m \u001b[49m\u001b[43mx\u001b[49m\u001b[38;5;241;43m=\u001b[39;49m\u001b[43mx\u001b[49m\u001b[43m)\u001b[49m\n\u001b[1;32m     37\u001b[0m     model \u001b[38;5;241m=\u001b[39m model \u001b[38;5;241m*\u001b[39m stdY \u001b[38;5;241m+\u001b[39m meanY\n\u001b[1;32m     38\u001b[0m     \u001b[38;5;28;01mreturn\u001b[39;00m model\n",
      "File \u001b[0;32m~/.virtualenvs/igm_emulator/lib/python3.9/site-packages/haiku/_src/multi_transform.py:312\u001b[0m, in \u001b[0;36mwithout_apply_rng.<locals>.apply_fn\u001b[0;34m(params, *args, **kwargs)\u001b[0m\n\u001b[1;32m    310\u001b[0m \u001b[38;5;28;01mdef\u001b[39;00m \u001b[38;5;21mapply_fn\u001b[39m(params, \u001b[38;5;241m*\u001b[39margs, \u001b[38;5;241m*\u001b[39m\u001b[38;5;241m*\u001b[39mkwargs):\n\u001b[1;32m    311\u001b[0m   check_rng_kwarg(kwargs)\n\u001b[0;32m--> 312\u001b[0m   \u001b[38;5;28;01mreturn\u001b[39;00m \u001b[43mf\u001b[49m\u001b[38;5;241;43m.\u001b[39;49m\u001b[43mapply\u001b[49m\u001b[43m(\u001b[49m\u001b[43mparams\u001b[49m\u001b[43m,\u001b[49m\u001b[43m \u001b[49m\u001b[38;5;28;43;01mNone\u001b[39;49;00m\u001b[43m,\u001b[49m\u001b[43m \u001b[49m\u001b[38;5;241;43m*\u001b[39;49m\u001b[43margs\u001b[49m\u001b[43m,\u001b[49m\u001b[43m \u001b[49m\u001b[38;5;241;43m*\u001b[39;49m\u001b[38;5;241;43m*\u001b[39;49m\u001b[43mkwargs\u001b[49m\u001b[43m)\u001b[49m\n",
      "File \u001b[0;32m~/.virtualenvs/igm_emulator/lib/python3.9/site-packages/haiku/_src/transform.py:184\u001b[0m, in \u001b[0;36mwithout_state.<locals>.apply_fn\u001b[0;34m(params, *args, **kwargs)\u001b[0m\n\u001b[1;32m    177\u001b[0m \u001b[38;5;28;01mif\u001b[39;00m \u001b[38;5;124m\"\u001b[39m\u001b[38;5;124mstate\u001b[39m\u001b[38;5;124m\"\u001b[39m \u001b[38;5;129;01min\u001b[39;00m kwargs:\n\u001b[1;32m    178\u001b[0m   \u001b[38;5;28;01mraise\u001b[39;00m \u001b[38;5;167;01mTypeError\u001b[39;00m(\n\u001b[1;32m    179\u001b[0m       \u001b[38;5;124m\"\u001b[39m\u001b[38;5;124mHaiku transform adds three arguments (params, state, rng) to apply. \u001b[39m\u001b[38;5;124m\"\u001b[39m\n\u001b[1;32m    180\u001b[0m       \u001b[38;5;124m\"\u001b[39m\u001b[38;5;124mIf the functions you are transforming use the same names you must \u001b[39m\u001b[38;5;124m\"\u001b[39m\n\u001b[1;32m    181\u001b[0m       \u001b[38;5;124m\"\u001b[39m\u001b[38;5;124mpass them positionally (e.g. `f.apply(.., my_state)` and not by \u001b[39m\u001b[38;5;124m\"\u001b[39m\n\u001b[1;32m    182\u001b[0m       \u001b[38;5;124m\"\u001b[39m\u001b[38;5;124mname (e.g. `f.apply(.., state=my_state)`)\u001b[39m\u001b[38;5;124m\"\u001b[39m)\n\u001b[0;32m--> 184\u001b[0m out, state \u001b[38;5;241m=\u001b[39m \u001b[43mf\u001b[49m\u001b[38;5;241;43m.\u001b[39;49m\u001b[43mapply\u001b[49m\u001b[43m(\u001b[49m\u001b[43mparams\u001b[49m\u001b[43m,\u001b[49m\u001b[43m \u001b[49m\u001b[38;5;28;43;01mNone\u001b[39;49;00m\u001b[43m,\u001b[49m\u001b[43m \u001b[49m\u001b[38;5;241;43m*\u001b[39;49m\u001b[43margs\u001b[49m\u001b[43m,\u001b[49m\u001b[43m \u001b[49m\u001b[38;5;241;43m*\u001b[39;49m\u001b[38;5;241;43m*\u001b[39;49m\u001b[43mkwargs\u001b[49m\u001b[43m)\u001b[49m\n\u001b[1;32m    185\u001b[0m \u001b[38;5;28;01mif\u001b[39;00m state:\n\u001b[1;32m    186\u001b[0m   \u001b[38;5;28;01mraise\u001b[39;00m \u001b[38;5;167;01mValueError\u001b[39;00m(\u001b[38;5;124m\"\u001b[39m\u001b[38;5;124mIf your transformed function uses `hk.\u001b[39m\u001b[38;5;124m{\u001b[39m\u001b[38;5;124mget,set}_state` \u001b[39m\u001b[38;5;124m\"\u001b[39m\n\u001b[1;32m    187\u001b[0m                    \u001b[38;5;124m\"\u001b[39m\u001b[38;5;124mthen use `hk.transform_with_state`.\u001b[39m\u001b[38;5;124m\"\u001b[39m)\n",
      "File \u001b[0;32m~/.virtualenvs/igm_emulator/lib/python3.9/site-packages/haiku/_src/transform.py:451\u001b[0m, in \u001b[0;36mtransform_with_state.<locals>.apply_fn\u001b[0;34m(params, state, rng, *args, **kwargs)\u001b[0m\n\u001b[1;32m    449\u001b[0m \u001b[38;5;28;01mwith\u001b[39;00m base\u001b[38;5;241m.\u001b[39mnew_context(params\u001b[38;5;241m=\u001b[39mparams, state\u001b[38;5;241m=\u001b[39mstate, rng\u001b[38;5;241m=\u001b[39mrng) \u001b[38;5;28;01mas\u001b[39;00m ctx:\n\u001b[1;32m    450\u001b[0m   \u001b[38;5;28;01mtry\u001b[39;00m:\n\u001b[0;32m--> 451\u001b[0m     out \u001b[38;5;241m=\u001b[39m \u001b[43mf\u001b[49m\u001b[43m(\u001b[49m\u001b[38;5;241;43m*\u001b[39;49m\u001b[43margs\u001b[49m\u001b[43m,\u001b[49m\u001b[43m \u001b[49m\u001b[38;5;241;43m*\u001b[39;49m\u001b[38;5;241;43m*\u001b[39;49m\u001b[43mkwargs\u001b[49m\u001b[43m)\u001b[49m\n\u001b[1;32m    452\u001b[0m   \u001b[38;5;28;01mexcept\u001b[39;00m jax\u001b[38;5;241m.\u001b[39merrors\u001b[38;5;241m.\u001b[39mUnexpectedTracerError \u001b[38;5;28;01mas\u001b[39;00m e:\n\u001b[1;32m    453\u001b[0m     \u001b[38;5;28;01mraise\u001b[39;00m jax\u001b[38;5;241m.\u001b[39merrors\u001b[38;5;241m.\u001b[39mUnexpectedTracerError(unexpected_tracer_hint) \u001b[38;5;28;01mfrom\u001b[39;00m \u001b[38;5;21;01me\u001b[39;00m\n",
      "File \u001b[0;32m~/igm_emulator/igm_emulator/emulator/haiku_custom_forward.py:76\u001b[0m, in \u001b[0;36m_custom_forward_fn\u001b[0;34m(x)\u001b[0m\n\u001b[1;32m     74\u001b[0m \u001b[38;5;28;01mdef\u001b[39;00m \u001b[38;5;21m_custom_forward_fn\u001b[39m(x):\n\u001b[1;32m     75\u001b[0m   module \u001b[38;5;241m=\u001b[39m MyModuleCustom(output_size\u001b[38;5;241m=\u001b[39moutput_size, activation \u001b[38;5;241m=\u001b[39m activation)\n\u001b[0;32m---> 76\u001b[0m   \u001b[38;5;28;01mreturn\u001b[39;00m \u001b[43mmodule\u001b[49m\u001b[43m(\u001b[49m\u001b[43mx\u001b[49m\u001b[43m)\u001b[49m\n",
      "File \u001b[0;32m~/.virtualenvs/igm_emulator/lib/python3.9/site-packages/haiku/_src/module.py:465\u001b[0m, in \u001b[0;36mwrap_method.<locals>.wrapped\u001b[0;34m(self, *args, **kwargs)\u001b[0m\n\u001b[1;32m    462\u001b[0m   \u001b[38;5;28;01mif\u001b[39;00m method_name \u001b[38;5;241m!=\u001b[39m \u001b[38;5;124m\"\u001b[39m\u001b[38;5;124m__call__\u001b[39m\u001b[38;5;124m\"\u001b[39m:\n\u001b[1;32m    463\u001b[0m     f \u001b[38;5;241m=\u001b[39m jax\u001b[38;5;241m.\u001b[39mnamed_call(f, name\u001b[38;5;241m=\u001b[39mmethod_name)\n\u001b[0;32m--> 465\u001b[0m out \u001b[38;5;241m=\u001b[39m \u001b[43mf\u001b[49m\u001b[43m(\u001b[49m\u001b[38;5;241;43m*\u001b[39;49m\u001b[43margs\u001b[49m\u001b[43m,\u001b[49m\u001b[43m \u001b[49m\u001b[38;5;241;43m*\u001b[39;49m\u001b[38;5;241;43m*\u001b[39;49m\u001b[43mkwargs\u001b[49m\u001b[43m)\u001b[49m\n\u001b[1;32m    467\u001b[0m \u001b[38;5;66;03m# Module names are set in the constructor. If `f` is the constructor then\u001b[39;00m\n\u001b[1;32m    468\u001b[0m \u001b[38;5;66;03m# its name will only be set **after** `f` has run. For methods other\u001b[39;00m\n\u001b[1;32m    469\u001b[0m \u001b[38;5;66;03m# than `__init__` we need the name before running in order to wrap their\u001b[39;00m\n\u001b[1;32m    470\u001b[0m \u001b[38;5;66;03m# execution with `named_call`.\u001b[39;00m\n\u001b[1;32m    471\u001b[0m \u001b[38;5;28;01mif\u001b[39;00m module_name \u001b[38;5;129;01mis\u001b[39;00m \u001b[38;5;28;01mNone\u001b[39;00m:\n",
      "File \u001b[0;32m/mnt/quasar/zhenyujin/miniconda3/lib/python3.9/contextlib.py:79\u001b[0m, in \u001b[0;36mContextDecorator.__call__.<locals>.inner\u001b[0;34m(*args, **kwds)\u001b[0m\n\u001b[1;32m     76\u001b[0m \u001b[38;5;129m@wraps\u001b[39m(func)\n\u001b[1;32m     77\u001b[0m \u001b[38;5;28;01mdef\u001b[39;00m \u001b[38;5;21minner\u001b[39m(\u001b[38;5;241m*\u001b[39margs, \u001b[38;5;241m*\u001b[39m\u001b[38;5;241m*\u001b[39mkwds):\n\u001b[1;32m     78\u001b[0m     \u001b[38;5;28;01mwith\u001b[39;00m \u001b[38;5;28mself\u001b[39m\u001b[38;5;241m.\u001b[39m_recreate_cm():\n\u001b[0;32m---> 79\u001b[0m         \u001b[38;5;28;01mreturn\u001b[39;00m \u001b[43mfunc\u001b[49m\u001b[43m(\u001b[49m\u001b[38;5;241;43m*\u001b[39;49m\u001b[43margs\u001b[49m\u001b[43m,\u001b[49m\u001b[43m \u001b[49m\u001b[38;5;241;43m*\u001b[39;49m\u001b[38;5;241;43m*\u001b[39;49m\u001b[43mkwds\u001b[49m\u001b[43m)\u001b[49m\n",
      "File \u001b[0;32m~/.virtualenvs/igm_emulator/lib/python3.9/site-packages/haiku/_src/module.py:306\u001b[0m, in \u001b[0;36mrun_interceptors\u001b[0;34m(bound_method, method_name, self, orig_class, *args, **kwargs)\u001b[0m\n\u001b[1;32m    304\u001b[0m \u001b[38;5;250m\u001b[39m\u001b[38;5;124;03m\"\"\"Runs any method interceptors or the original method.\"\"\"\u001b[39;00m\n\u001b[1;32m    305\u001b[0m \u001b[38;5;28;01mif\u001b[39;00m \u001b[38;5;129;01mnot\u001b[39;00m interceptor_stack:\n\u001b[0;32m--> 306\u001b[0m   \u001b[38;5;28;01mreturn\u001b[39;00m \u001b[43mbound_method\u001b[49m\u001b[43m(\u001b[49m\u001b[38;5;241;43m*\u001b[39;49m\u001b[43margs\u001b[49m\u001b[43m,\u001b[49m\u001b[43m \u001b[49m\u001b[38;5;241;43m*\u001b[39;49m\u001b[38;5;241;43m*\u001b[39;49m\u001b[43mkwargs\u001b[49m\u001b[43m)\u001b[49m\n\u001b[1;32m    308\u001b[0m ctx \u001b[38;5;241m=\u001b[39m MethodContext(module\u001b[38;5;241m=\u001b[39m\u001b[38;5;28mself\u001b[39m,\n\u001b[1;32m    309\u001b[0m                     method_name\u001b[38;5;241m=\u001b[39mmethod_name,\n\u001b[1;32m    310\u001b[0m                     orig_method\u001b[38;5;241m=\u001b[39mbound_method,\n\u001b[1;32m    311\u001b[0m                     orig_class\u001b[38;5;241m=\u001b[39morig_class)\n\u001b[1;32m    312\u001b[0m interceptor_stack_copy \u001b[38;5;241m=\u001b[39m interceptor_stack\u001b[38;5;241m.\u001b[39mclone()\n",
      "File \u001b[0;32m~/igm_emulator/igm_emulator/emulator/haiku_custom_forward.py:63\u001b[0m, in \u001b[0;36mMyModuleCustom.__call__\u001b[0;34m(self, x, rng)\u001b[0m\n\u001b[1;32m     60\u001b[0m rng \u001b[38;5;241m=\u001b[39m hk\u001b[38;5;241m.\u001b[39mPRNGSequence(rng) \u001b[38;5;28;01mif\u001b[39;00m rng \u001b[38;5;129;01mis\u001b[39;00m \u001b[38;5;129;01mnot\u001b[39;00m \u001b[38;5;28;01mNone\u001b[39;00m \u001b[38;5;28;01melse\u001b[39;00m \u001b[38;5;28;01mNone\u001b[39;00m\n\u001b[1;32m     62\u001b[0m \u001b[38;5;28;01mfor\u001b[39;00m i, layer \u001b[38;5;129;01min\u001b[39;00m \u001b[38;5;28menumerate\u001b[39m(\u001b[38;5;28mself\u001b[39m\u001b[38;5;241m.\u001b[39mlayer):\n\u001b[0;32m---> 63\u001b[0m     out \u001b[38;5;241m=\u001b[39m \u001b[43mlayer\u001b[49m\u001b[43m(\u001b[49m\u001b[43mout\u001b[49m\u001b[43m)\u001b[49m\n\u001b[1;32m     65\u001b[0m     \u001b[38;5;28;01mif\u001b[39;00m i \u001b[38;5;241m<\u001b[39m (num_layers \u001b[38;5;241m-\u001b[39m \u001b[38;5;241m1\u001b[39m) \u001b[38;5;129;01mor\u001b[39;00m \u001b[38;5;28mself\u001b[39m\u001b[38;5;241m.\u001b[39mactivate_final:\n\u001b[1;32m     66\u001b[0m         \u001b[38;5;66;03m# Only perform dropout if we are activating the output.\u001b[39;00m\n\u001b[1;32m     67\u001b[0m         \u001b[38;5;28;01mif\u001b[39;00m \u001b[38;5;28mself\u001b[39m\u001b[38;5;241m.\u001b[39mdropout_rate \u001b[38;5;129;01mis\u001b[39;00m \u001b[38;5;129;01mnot\u001b[39;00m \u001b[38;5;28;01mNone\u001b[39;00m:\n",
      "File \u001b[0;32m~/.virtualenvs/igm_emulator/lib/python3.9/site-packages/haiku/_src/module.py:465\u001b[0m, in \u001b[0;36mwrap_method.<locals>.wrapped\u001b[0;34m(self, *args, **kwargs)\u001b[0m\n\u001b[1;32m    462\u001b[0m   \u001b[38;5;28;01mif\u001b[39;00m method_name \u001b[38;5;241m!=\u001b[39m \u001b[38;5;124m\"\u001b[39m\u001b[38;5;124m__call__\u001b[39m\u001b[38;5;124m\"\u001b[39m:\n\u001b[1;32m    463\u001b[0m     f \u001b[38;5;241m=\u001b[39m jax\u001b[38;5;241m.\u001b[39mnamed_call(f, name\u001b[38;5;241m=\u001b[39mmethod_name)\n\u001b[0;32m--> 465\u001b[0m out \u001b[38;5;241m=\u001b[39m \u001b[43mf\u001b[49m\u001b[43m(\u001b[49m\u001b[38;5;241;43m*\u001b[39;49m\u001b[43margs\u001b[49m\u001b[43m,\u001b[49m\u001b[43m \u001b[49m\u001b[38;5;241;43m*\u001b[39;49m\u001b[38;5;241;43m*\u001b[39;49m\u001b[43mkwargs\u001b[49m\u001b[43m)\u001b[49m\n\u001b[1;32m    467\u001b[0m \u001b[38;5;66;03m# Module names are set in the constructor. If `f` is the constructor then\u001b[39;00m\n\u001b[1;32m    468\u001b[0m \u001b[38;5;66;03m# its name will only be set **after** `f` has run. For methods other\u001b[39;00m\n\u001b[1;32m    469\u001b[0m \u001b[38;5;66;03m# than `__init__` we need the name before running in order to wrap their\u001b[39;00m\n\u001b[1;32m    470\u001b[0m \u001b[38;5;66;03m# execution with `named_call`.\u001b[39;00m\n\u001b[1;32m    471\u001b[0m \u001b[38;5;28;01mif\u001b[39;00m module_name \u001b[38;5;129;01mis\u001b[39;00m \u001b[38;5;28;01mNone\u001b[39;00m:\n",
      "File \u001b[0;32m/mnt/quasar/zhenyujin/miniconda3/lib/python3.9/contextlib.py:79\u001b[0m, in \u001b[0;36mContextDecorator.__call__.<locals>.inner\u001b[0;34m(*args, **kwds)\u001b[0m\n\u001b[1;32m     76\u001b[0m \u001b[38;5;129m@wraps\u001b[39m(func)\n\u001b[1;32m     77\u001b[0m \u001b[38;5;28;01mdef\u001b[39;00m \u001b[38;5;21minner\u001b[39m(\u001b[38;5;241m*\u001b[39margs, \u001b[38;5;241m*\u001b[39m\u001b[38;5;241m*\u001b[39mkwds):\n\u001b[1;32m     78\u001b[0m     \u001b[38;5;28;01mwith\u001b[39;00m \u001b[38;5;28mself\u001b[39m\u001b[38;5;241m.\u001b[39m_recreate_cm():\n\u001b[0;32m---> 79\u001b[0m         \u001b[38;5;28;01mreturn\u001b[39;00m \u001b[43mfunc\u001b[49m\u001b[43m(\u001b[49m\u001b[38;5;241;43m*\u001b[39;49m\u001b[43margs\u001b[49m\u001b[43m,\u001b[49m\u001b[43m \u001b[49m\u001b[38;5;241;43m*\u001b[39;49m\u001b[38;5;241;43m*\u001b[39;49m\u001b[43mkwds\u001b[49m\u001b[43m)\u001b[49m\n",
      "File \u001b[0;32m~/.virtualenvs/igm_emulator/lib/python3.9/site-packages/haiku/_src/module.py:306\u001b[0m, in \u001b[0;36mrun_interceptors\u001b[0;34m(bound_method, method_name, self, orig_class, *args, **kwargs)\u001b[0m\n\u001b[1;32m    304\u001b[0m \u001b[38;5;250m\u001b[39m\u001b[38;5;124;03m\"\"\"Runs any method interceptors or the original method.\"\"\"\u001b[39;00m\n\u001b[1;32m    305\u001b[0m \u001b[38;5;28;01mif\u001b[39;00m \u001b[38;5;129;01mnot\u001b[39;00m interceptor_stack:\n\u001b[0;32m--> 306\u001b[0m   \u001b[38;5;28;01mreturn\u001b[39;00m \u001b[43mbound_method\u001b[49m\u001b[43m(\u001b[49m\u001b[38;5;241;43m*\u001b[39;49m\u001b[43margs\u001b[49m\u001b[43m,\u001b[49m\u001b[43m \u001b[49m\u001b[38;5;241;43m*\u001b[39;49m\u001b[38;5;241;43m*\u001b[39;49m\u001b[43mkwargs\u001b[49m\u001b[43m)\u001b[49m\n\u001b[1;32m    308\u001b[0m ctx \u001b[38;5;241m=\u001b[39m MethodContext(module\u001b[38;5;241m=\u001b[39m\u001b[38;5;28mself\u001b[39m,\n\u001b[1;32m    309\u001b[0m                     method_name\u001b[38;5;241m=\u001b[39mmethod_name,\n\u001b[1;32m    310\u001b[0m                     orig_method\u001b[38;5;241m=\u001b[39mbound_method,\n\u001b[1;32m    311\u001b[0m                     orig_class\u001b[38;5;241m=\u001b[39morig_class)\n\u001b[1;32m    312\u001b[0m interceptor_stack_copy \u001b[38;5;241m=\u001b[39m interceptor_stack\u001b[38;5;241m.\u001b[39mclone()\n",
      "File \u001b[0;32m~/.virtualenvs/igm_emulator/lib/python3.9/site-packages/haiku/_src/basic.py:178\u001b[0m, in \u001b[0;36mLinear.__call__\u001b[0;34m(self, inputs, precision)\u001b[0m\n\u001b[1;32m    176\u001b[0m   stddev \u001b[38;5;241m=\u001b[39m \u001b[38;5;241m1.\u001b[39m \u001b[38;5;241m/\u001b[39m np\u001b[38;5;241m.\u001b[39msqrt(\u001b[38;5;28mself\u001b[39m\u001b[38;5;241m.\u001b[39minput_size)\n\u001b[1;32m    177\u001b[0m   w_init \u001b[38;5;241m=\u001b[39m hk\u001b[38;5;241m.\u001b[39minitializers\u001b[38;5;241m.\u001b[39mTruncatedNormal(stddev\u001b[38;5;241m=\u001b[39mstddev)\n\u001b[0;32m--> 178\u001b[0m w \u001b[38;5;241m=\u001b[39m \u001b[43mhk\u001b[49m\u001b[38;5;241;43m.\u001b[39;49m\u001b[43mget_parameter\u001b[49m\u001b[43m(\u001b[49m\u001b[38;5;124;43m\"\u001b[39;49m\u001b[38;5;124;43mw\u001b[39;49m\u001b[38;5;124;43m\"\u001b[39;49m\u001b[43m,\u001b[49m\u001b[43m \u001b[49m\u001b[43m[\u001b[49m\u001b[43minput_size\u001b[49m\u001b[43m,\u001b[49m\u001b[43m \u001b[49m\u001b[43moutput_size\u001b[49m\u001b[43m]\u001b[49m\u001b[43m,\u001b[49m\u001b[43m \u001b[49m\u001b[43mdtype\u001b[49m\u001b[43m,\u001b[49m\u001b[43m \u001b[49m\u001b[43minit\u001b[49m\u001b[38;5;241;43m=\u001b[39;49m\u001b[43mw_init\u001b[49m\u001b[43m)\u001b[49m\n\u001b[1;32m    180\u001b[0m out \u001b[38;5;241m=\u001b[39m jnp\u001b[38;5;241m.\u001b[39mdot(inputs, w, precision\u001b[38;5;241m=\u001b[39mprecision)\n\u001b[1;32m    182\u001b[0m \u001b[38;5;28;01mif\u001b[39;00m \u001b[38;5;28mself\u001b[39m\u001b[38;5;241m.\u001b[39mwith_bias:\n",
      "File \u001b[0;32m~/.virtualenvs/igm_emulator/lib/python3.9/site-packages/haiku/_src/base.py:603\u001b[0m, in \u001b[0;36mreplaceable.<locals>.wrapped\u001b[0;34m(*args, **kwargs)\u001b[0m\n\u001b[1;32m    601\u001b[0m \u001b[38;5;129m@functools\u001b[39m\u001b[38;5;241m.\u001b[39mwraps(f)\n\u001b[1;32m    602\u001b[0m \u001b[38;5;28;01mdef\u001b[39;00m \u001b[38;5;21mwrapped\u001b[39m(\u001b[38;5;241m*\u001b[39margs, \u001b[38;5;241m*\u001b[39m\u001b[38;5;241m*\u001b[39mkwargs):\n\u001b[0;32m--> 603\u001b[0m   \u001b[38;5;28;01mreturn\u001b[39;00m \u001b[43mwrapped\u001b[49m\u001b[38;5;241;43m.\u001b[39;49m\u001b[43m_current\u001b[49m\u001b[43m(\u001b[49m\u001b[38;5;241;43m*\u001b[39;49m\u001b[43margs\u001b[49m\u001b[43m,\u001b[49m\u001b[43m \u001b[49m\u001b[38;5;241;43m*\u001b[39;49m\u001b[38;5;241;43m*\u001b[39;49m\u001b[43mkwargs\u001b[49m\u001b[43m)\u001b[49m\n",
      "File \u001b[0;32m~/.virtualenvs/igm_emulator/lib/python3.9/site-packages/haiku/_src/base.py:708\u001b[0m, in \u001b[0;36mget_parameter\u001b[0;34m(name, shape, dtype, init)\u001b[0m\n\u001b[1;32m    705\u001b[0m param \u001b[38;5;241m=\u001b[39m check_not_none(param, \u001b[38;5;124m\"\u001b[39m\u001b[38;5;124mParameters cannot be `None`.\u001b[39m\u001b[38;5;124m\"\u001b[39m)\n\u001b[1;32m    707\u001b[0m \u001b[38;5;28;01mif\u001b[39;00m param\u001b[38;5;241m.\u001b[39mshape \u001b[38;5;241m!=\u001b[39m \u001b[38;5;28mtuple\u001b[39m(shape):\n\u001b[0;32m--> 708\u001b[0m   \u001b[38;5;28;01mraise\u001b[39;00m \u001b[38;5;167;01mValueError\u001b[39;00m(\n\u001b[1;32m    709\u001b[0m       \u001b[38;5;124mf\u001b[39m\u001b[38;5;124m\"\u001b[39m\u001b[38;5;132;01m{\u001b[39;00mfq_name\u001b[38;5;132;01m!r}\u001b[39;00m\u001b[38;5;124m with retrieved shape \u001b[39m\u001b[38;5;132;01m{\u001b[39;00mparam\u001b[38;5;241m.\u001b[39mshape\u001b[38;5;132;01m!r}\u001b[39;00m\u001b[38;5;124m does not match \u001b[39m\u001b[38;5;124m\"\u001b[39m\n\u001b[1;32m    710\u001b[0m       \u001b[38;5;124mf\u001b[39m\u001b[38;5;124m\"\u001b[39m\u001b[38;5;124mshape=\u001b[39m\u001b[38;5;132;01m{\u001b[39;00mshape\u001b[38;5;132;01m!r}\u001b[39;00m\u001b[38;5;124m dtype=\u001b[39m\u001b[38;5;132;01m{\u001b[39;00mdtype\u001b[38;5;132;01m!r}\u001b[39;00m\u001b[38;5;124m\"\u001b[39m)\n\u001b[1;32m    712\u001b[0m \u001b[38;5;28;01mreturn\u001b[39;00m param\n",
      "\u001b[0;31mValueError\u001b[0m: 'custom_linear/~/linear_3/w' with retrieved shape (100, 276) does not match shape=[100, 59] dtype=dtype('float64')"
     ]
    }
   ],
   "source": [
    "model = nn_emulator(best_params, theta_true)\n",
    "\n",
    "fig2, axs2 = plt.subplots(1, 1)\n",
    "axs2.plot(vbins, model, label=f'Emulated' r'$<F>$='f'{theta_true[0]:.2f},'\n",
    "                                                     r'$T_0$='f'{theta_true[1]:.2f},'\n",
    "                                                     r'$\\gamma$='f'{theta_true[2]:.2f}')\n",
    "axs2.plot(vbins, mean_flux, label=f'mean', linestyle='--')\n",
    "for i in mock_flux:\n",
    "    axs2.plot(vbins, i, label=f'mock', linestyle='--',alpha = 0.5, color ='blue')\n",
    "plt.title('Test overplot in data space')\n",
    "plt.legend()\n",
    "plt.show()"
   ]
  },
  {
   "cell_type": "code",
   "execution_count": null,
   "id": "d5cac54a",
   "metadata": {
    "pycharm": {
     "name": "#%%\n"
    }
   },
   "outputs": [],
   "source": [
    "    nn = NN_HMC(vbins,best_params,T0s,gammas,fobs,like_dict)\n",
    "    x_true = nn.theta_to_x(theta_true)\n",
    "    key = random.PRNGKey(642)\n",
    "    key, subkey = random.split(key)"
   ]
  },
  {
   "cell_type": "code",
   "execution_count": null,
   "id": "64e87119",
   "metadata": {
    "pycharm": {
     "name": "#%%\n"
    }
   },
   "outputs": [],
   "source": [
    "    #x_samples, theta_samples, ln_probs, neff, neff_mean, \\\n",
    "    #sec_per_neff, ms_per_step, r_hat, r_hat_mean, \\\n",
    "    #hmc_num_steps, hmc_tree_depth, runtime = nn.mcmc_one(key, x_true, flux)"
   ]
  },
  {
   "cell_type": "code",
   "execution_count": null,
   "id": "f093ad04",
   "metadata": {
    "pycharm": {
     "name": "#%%\n"
    }
   },
   "outputs": [],
   "source": [
    "import sys\n",
    "sys.path.append('/home/zhenyujin/dw_inference/dw_inference/inference')\n",
    "from utils import walker_plot, corner_plot\n",
    "\n",
    "\n",
    "note = \"jit_2000_4_test12_compare_molly_mock0\"\n",
    "var_label = ['fobs', 'T0s', 'gammas']\n",
    "\n",
    "import sys\n",
    "sys.path.append('/home/zhenyujin/wdm/correlation/')\n",
    "from mcmc_inference_new_linda_params_mult_file_3d import return_idx, get_model_covar_nearest"
   ]
  },
  {
   "cell_type": "code",
   "execution_count": null,
   "id": "054188c6",
   "metadata": {
    "pycharm": {
     "name": "#%%\n"
    },
    "scrolled": true
   },
   "outputs": [],
   "source": [
    "print(nn.potential_fun(theta_true),\n",
    "nn.log_likelihood(theta_true),\n",
    "nn.eval_prior(theta_true))"
   ]
  },
  {
   "cell_type": "code",
   "execution_count": null,
   "id": "5cd0c90d",
   "metadata": {
    "pycharm": {
     "name": "#%%\n"
    }
   },
   "outputs": [],
   "source": [
    "from nn_hmc_3d_x import NN_HMC_X\n",
    "n_inference = 1\n",
    "pbar = ProgressBar()\n",
    "new_covariance = like_dict['covariance']\n",
    "y_error = np.sqrt(np.diag(new_covariance))\n",
    "molly_name = f'z54_data_nearest_model_set_bins_4_steps_48000_mcmc_inference_5_one_prior_T{T0_idx}_G{g_idx}_F{f_idx}_R_30000.hdf5'\n",
    "molly_model = h5py.File(in_path + molly_name, 'r')\n",
    "for mock_idx in pbar(range(n_inference)): \n",
    "    mock_idx = 3\n",
    "    flux = mocks[mock_idx, :]\n",
    "    nn_x = NN_HMC_X(vbins,best_params,T0s,gammas,fobs,like_dict)\n",
    "    print(nn_x.potential_fun(x_true,flux),\n",
    "    nn_x.log_likelihood(x_true,flux),\n",
    "    nn_x.eval_prior(x_true))\n",
    "    x_samples, theta_samples, lnP, neff, neff_mean, sec_per_neff, ms_per_step, r_hat, r_hat_mean, \\\n",
    "                hmc_num_steps, hmc_tree_depth, total_time = nn_x.mcmc_one(key, x_true, flux)\n",
    "    \n",
    "    f_mcmc, t_mcmc, g_mcmc = map(lambda v: (v[1], v[2] - v[1], v[1] - v[0]),\n",
    "                                 zip(*np.percentile(theta_samples, [16, 50, 84], axis=0)))\n",
    "\n",
    "    molly_sample = molly_model['samples'][mock_idx,:,:]\n",
    "    molly_flip = np.zeros(shape = molly_sample.shape)\n",
    "    molly_flip[:,0] = molly_sample[:,2]\n",
    "    molly_flip[:,1] = molly_sample[:,0]\n",
    "    molly_flip[:,2] = molly_sample[:,1]\n",
    "\n",
    "    t_molly, g_molly, f_molly = map(lambda v: (v[1], v[2] - v[1], v[1] - v[0]),\n",
    "                                     zip(*np.percentile(molly_sample, [16, 50, 84], axis=0)))\n",
    "    molly_infer, covar, log_det = get_model_covar_nearest([t_molly[0], g_molly[0],f_molly[0]])\n",
    "\n",
    "    corner_fig = corner.corner(np.array(theta_samples),levels=(0.68, 0.95),labels=var_label,\n",
    "                           truths=np.array(theta_true),truth_color='red',show_titles=True,\n",
    "                          title_kwargs={\"fontsize\": 15}, label_kwargs={'fontsize': 20},\n",
    "                            data_kwargs={'ms': 1.0, 'alpha': 0.1},)\n",
    "    corner.corner(molly_flip,levels=(0.68, 0.95),fig=corner_fig,color='blue')"
   ]
  },
  {
   "cell_type": "code",
   "execution_count": null,
   "id": "2535b536",
   "metadata": {},
   "outputs": [],
   "source": [
    "print(molly_model.keys())\n",
    "\n",
    "molly_lnP = molly_model['log_prob'][mock_idx,:]\n",
    "molly_evidence = np.sum(molly_model['log_prob'][mock_idx,:])\n",
    "linda_evidence = np.sum(lnP)\n",
    "print(molly_evidence,linda_evidence)\n",
    "print(molly_lnP.max(),lnP.max())"
   ]
  },
  {
   "cell_type": "code",
   "execution_count": null,
   "id": "e094bd59",
   "metadata": {
    "pycharm": {
     "name": "#%%\n"
    }
   },
   "outputs": [],
   "source": [
    "import corner\n",
    "fig = corner_plot(theta_samples, var_label,\n",
    "            theta_true=jnp.asarray(theta_true),\n",
    "            overlay_color = ['k'])\n",
    "walker_plot(np.swapaxes(x_samples, 0, 1), var_label,\n",
    "                    truths= jnp.asarray(x_true),\n",
    "                    linewidth=1.0)"
   ]
  },
  {
   "cell_type": "code",
   "execution_count": null,
   "id": "9b656297",
   "metadata": {
    "pycharm": {
     "name": "#%%\n"
    }
   },
   "outputs": [],
   "source": [
    "import corner\n",
    "fig = corner_plot(theta_samples, var_label,\n",
    "            theta_true=jnp.asarray(theta_true),\n",
    "            overlay_color = ['k'])\n",
    "walker_plot(np.swapaxes(x_samples, 0, 1), var_label,\n",
    "                    truths= jnp.asarray(x_true),\n",
    "                    linewidth=1.0)"
   ]
  },
  {
   "cell_type": "code",
   "execution_count": null,
   "id": "cf500268",
   "metadata": {
    "pycharm": {
     "name": "#%%\n"
    }
   },
   "outputs": [],
   "source": [
    "from matplotlib.ticker import MaxNLocator\n",
    "import matplotlib.patheffects as pe\n",
    "from tabulate import tabulate\n",
    "plt_params = {'legend.fontsize': 7,\n",
    "                  'legend.frameon': False,\n",
    "                  'axes.labelsize': 12,\n",
    "                  'axes.titlesize': 12,\n",
    "                  'figure.titlesize': 12,\n",
    "                  'xtick.labelsize': 12,\n",
    "                  'ytick.labelsize': 12,\n",
    "                  'lines.linewidth': .7,\n",
    "                  'lines.markersize': 2.3,\n",
    "                  'lines.markeredgewidth': .9,\n",
    "                  'errorbar.capsize': 2,\n",
    "                  'font.family': 'serif',\n",
    "                  # 'text.usetex': True,\n",
    "                  'xtick.minor.visible': True,\n",
    "                  }\n",
    "x_size = 5\n",
    "dpi_value = 200\n",
    "plt.rcParams.update(plt_params)\n",
    "\n",
    "fit_fig = plt.figure(figsize=(x_size*2., x_size*.65), constrained_layout=True,\n",
    "                         dpi=dpi_value,\n",
    "                         )\n",
    "grid = fit_fig.add_gridspec(\n",
    "        nrows=1, ncols=1,  # width_ratios=[3, 1, 1],\n",
    "    )\n",
    "\n",
    "fit_axis = fit_fig.add_subplot(grid[0])\n",
    "\n",
    "inds = np.random.randint(len(theta_samples), size=100)\n",
    "for idx, ind in enumerate(inds):\n",
    "    sample = theta_samples[ind]\n",
    "    model_plot = nn_emulator(best_params,sample)\n",
    "    molly,co,log_d= get_model_covar_nearest(molly_sample[ind])\n",
    "    if idx == 0:\n",
    "        fit_axis.plot(vbins, model_plot, c=\"b\", lw=.7, alpha=0.12, zorder=1, label='Posterior Draws')\n",
    "        fit_axis.plot(vbins, molly, c=\"yellow\", lw=.7, alpha=0.1, zorder=1, label='Old Posterior Draws')\n",
    "    else:\n",
    "        fit_axis.plot(vbins, model_plot, c=\"b\", lw=.7, alpha=0.12, zorder=1)\n",
    "        fit_axis.plot(vbins, molly, c=\"yellow\", lw=.7, alpha=0.1, zorder=1)\n",
    "            \n",
    "max_P = max(lnP)\n",
    "max_P_idx=[index for index, item in enumerate(lnP) if item == max_P]\n",
    "print(f'max_P:{theta_samples[max_P_idx,:][0]}')\n",
    "print(f'inferred:{[f_mcmc[0], t_mcmc[0], g_mcmc[0]]}')\n",
    "inferred_model_plot = nn_emulator(best_params,[f_mcmc[0], t_mcmc[0], g_mcmc[0]])\n",
    "max_P_model = nn_emulator(best_params,theta_samples[max_P_idx,:][0])\n",
    "mean_flux = like_dict['mean_data']\n",
    "fit_axis.plot(v_bins, inferred_model_plot, c=\"r\", label='Inferred Model', zorder=5,lw=1,\n",
    "                  path_effects=[pe.Stroke(linewidth=1.25, foreground='k'), pe.Normal()])\n",
    "fit_axis.plot(v_bins, mean_flux, c=\"lightgreen\", ls='--', label='True Model', zorder=2,lw=1.75,\n",
    "                  path_effects=[pe.Stroke(linewidth=2, foreground='k'), pe.Normal()])\n",
    "fit_axis.plot(v_bins, max_P_model, c=\"gold\", label='Max Probability Model', zorder=3,lw=1,\n",
    "                  path_effects=[pe.Stroke(linewidth=1.25, foreground='k'), pe.Normal()])\n",
    "fit_axis.errorbar(v_bins, flux,\n",
    "                      yerr=y_error,\n",
    "                      color='k', marker='.', linestyle=' ', zorder=1, capsize=0,\n",
    "                      label='Mock Data')\n",
    "fit_axis.plot(v_bins, molly_infer, c=\"m\", label='Old Model', zorder=4,lw=1,\n",
    "                  path_effects=[pe.Stroke(linewidth=1.25, foreground='k'), pe.Normal()])\n",
    "fit_axis.text(\n",
    "        500, 0.0248,\n",
    "        'True Model \\n'+r'$\\langle F \\rangle$'+f' = {np.round(theta_true[0], decimals=4)}'+ f'\\n $T_0$ = {int(theta_true[1])} K \\n $\\gamma$ = {np.round(theta_true[2], decimals=3)} \\n',\n",
    "        {'color': 'lightgreen', 'fontsize': 10},\n",
    "    )\n",
    "\n",
    "fit_axis.text(\n",
    "        1000, 0.024,\n",
    "        'Inferred Model \\n'+r'$\\langle F \\rangle$'+f' = {np.round(f_mcmc[0], decimals=4)}$^{{+{np.round(f_mcmc[1], decimals=4)}}}_{{-{np.round(f_mcmc[2], decimals=4)}}}$'+\n",
    "        f'\\n $T_0$ = {int(t_mcmc[0])}$^{{+{int(t_mcmc[1])}}}_{{-{int(t_mcmc[2])}}}$ K' \n",
    "        f'\\n '+r'$\\gamma$'+f' = {np.round(g_mcmc[0], decimals=3)}$^{{+{np.round(g_mcmc[1], decimals=3)}}}_{{-{np.round(g_mcmc[2], decimals=3)}}}$\\n',\n",
    "        {'color': 'r', 'fontsize': 10},\n",
    "    )\n",
    "#fit_axis.text(\n",
    "#        1510, 0.024,\n",
    "#     'Old inferred Model \\n'+r'$\\langle F \\rangle$'+f' = {np.round(f_molly[0], decimals=4)}$^{{+{np.round(f_molly[1], decimals=4)}}}_{{-{np.round(f_molly[2], decimals=4)}}}$'+\n",
    "#       f'\\n $T_0$ = {int(t_molly[0])}$^{{+{int(t_molly[1])}}}_{{-{int(t_molly[2])}}}$ K' \n",
    "#       f'\\n '+r'$\\gamma$'+f' = {np.round(g_molly[0], decimals=3)}$^{{+{np.round(g_molly[1], decimals=3)}}}_{{-{np.round(g_molly[2], decimals=3)}}}$\\n',\n",
    "#        {'color': 'm', 'fontsize': 10},\n",
    "#   )\n",
    "fit_axis.text(\n",
    "        1510, 0.026,\n",
    "      tabulate([[r' $R_2$', np.round(r2_score(flux, molly_infer), decimals=4),np.round(r2_score(flux, max_P_model), decimals=4)], \n",
    "                ['MSE', np.format_float_scientific(mean_squared_error(flux, molly_infer), precision=3),np.format_float_scientific(mean_squared_error(flux, max_P_model), precision=3)],\n",
    "               ['Distance',np.format_float_scientific(minkowski(flux, molly_infer), precision=3),np.format_float_scientific(minkowski(flux, molly_infer), precision=3)]], headers=['Matrices','Grid','Emulator'],tablefmt='orgtbl'),\n",
    "        {'color': 'm', 'fontsize': 10},\n",
    "   )\n",
    "fit_axis.set_xlim(vbins[0], vbins[-1])\n",
    "fit_axis.set_xlabel(\"Velocity (km/s)\")\n",
    "fit_axis.set_ylabel(\"Correlation Function\")\n",
    "fit_axis.legend()"
   ]
  },
  {
   "cell_type": "code",
   "execution_count": null,
   "id": "3a4e8d4e",
   "metadata": {
    "pycharm": {
     "name": "#%%\n"
    }
   },
   "outputs": [],
   "source": [
    "out_path = '/home/zhenyujin/igm_emulator/igm_emulator/hmc/plots/'\n",
    "#fit_fig.savefig(out_path + f'model_fit_{note}.pdf')\n",
    "#corner_fig.savefig(out_path + f'corner_{note}.pdf')"
   ]
  }
 ],
 "metadata": {
  "kernelspec": {
   "display_name": "Python 3 (ipykernel)",
   "language": "python",
   "name": "python3"
  },
  "language_info": {
   "codemirror_mode": {
    "name": "ipython",
    "version": 3
   },
   "file_extension": ".py",
   "mimetype": "text/x-python",
   "name": "python",
   "nbconvert_exporter": "python",
   "pygments_lexer": "ipython3",
   "version": "3.9.12"
  }
 },
 "nbformat": 4,
 "nbformat_minor": 5
}

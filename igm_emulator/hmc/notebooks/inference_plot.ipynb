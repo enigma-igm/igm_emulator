{
 "cells": [
  {
   "cell_type": "code",
   "execution_count": 25,
   "id": "49036d1f",
   "metadata": {},
   "outputs": [],
   "source": [
    "import sys\n",
    "sys.path.append('/home/zhenyujin/qso_fitting/')\n",
    "import numpy as np\n",
    "import h5py\n",
    "from qso_fitting.analysis.inf_test import run_inference_test, compute_importance_weights, C_ge, inference_test_plot\n",
    "from matplotlib import pyplot as plt\n",
    "from IPython import embed\n",
    "import os\n",
    "import corner\n",
    "import matplotlib.lines as mlines\n",
    "import IPython\n",
    "import dill"
   ]
  },
  {
   "cell_type": "code",
   "execution_count": 27,
   "id": "f60c3de8",
   "metadata": {},
   "outputs": [
    {
     "name": "stdout",
     "output_type": "stream",
     "text": [
      "reading in\n"
     ]
    }
   ],
   "source": [
    "redshift = 5.4\n",
    "zs = np.array([5.4, 5.5, 5.6, 5.7, 5.8, 5.9, 6.0])\n",
    "z_idx = np.argmin(np.abs(zs - redshift))\n",
    "z_strings = ['z54', 'z55', 'z56', 'z57', 'z58', 'z59', 'z6']\n",
    "z_string = z_strings[z_idx]\n",
    "\n",
    "n_inference = 100\n",
    "in_path_hdf5 = os.path.expanduser('~') + f'/igm_emulator/igm_emulator/hmc/hmc_results/'\n",
    "note = f\"{z_string}_inference_{n_inference}_samples_1000_chains_4_small_bins_retrain\"\n",
    "print('reading in')\n",
    "with h5py.File(in_path_hdf5 + f'{note}.hdf5', 'r') as f:\n",
    "    # IPython.embed()\n",
    "    true_theta = f['true_theta'][:, :]\n",
    "    log_prob = f['log_prob'][:, :]\n",
    "    true_log_prob = f['true_log_prob'][:]\n",
    "    samples = f['samples'][:, :, :]\n",
    "    infer_theta = f['infer_theta'][:, :]"
   ]
  },
  {
   "cell_type": "code",
   "execution_count": 28,
   "id": "14deeeca",
   "metadata": {},
   "outputs": [
    {
     "name": "stdout",
     "output_type": "stream",
     "text": [
      "(100, 4000)\n"
     ]
    }
   ],
   "source": [
    "print(log_prob.shape)"
   ]
  },
  {
   "cell_type": "code",
   "execution_count": 29,
   "id": "0cd8f1d1",
   "metadata": {},
   "outputs": [
    {
     "name": "stdout",
     "output_type": "stream",
     "text": [
      "-------------------------------------------------------------------------\n",
      "Full Inference test results for nqsos=100\n",
      "-------------------------------------------------------------------------\n",
      "Full    : 0.0 + 0.0 - 0.0 % for alpha=0.000 %\n",
      "Full    : 0.0 + 0.0 - 0.0 % for alpha=1.004 %\n",
      "Full    : 0.0 + 0.0 - 0.0 % for alpha=2.008 %\n",
      "Full    : 0.0 + 0.0 - 0.0 % for alpha=3.012 %\n",
      "Full    : 0.0 + 0.0 - 0.0 % for alpha=4.016 %\n",
      "Full    : 0.0 + 0.0 - 0.0 % for alpha=5.020 %\n",
      "Full    : 0.0 + 0.0 - 0.0 % for alpha=6.024 %\n",
      "Full    : 0.0 + 0.0 - 0.0 % for alpha=7.028 %\n",
      "Full    : 0.0 + 0.0 - 0.0 % for alpha=8.032 %\n",
      "Full    : 0.0 + 0.0 - 0.0 % for alpha=9.036 %\n",
      "Full    : 0.0 + 0.0 - 0.0 % for alpha=10.040 %\n",
      "Full    : 0.0 + 0.0 - 0.0 % for alpha=11.044 %\n",
      "Full    : 0.0 + 0.0 - 0.0 % for alpha=12.048 %\n",
      "Full    : 0.0 + 0.0 - 0.0 % for alpha=13.053 %\n",
      "Full    : 0.0 + 0.0 - 0.0 % for alpha=14.057 %\n",
      "Full    : 0.0 + 0.0 - 0.0 % for alpha=15.061 %\n",
      "Full    : 0.0 + 0.0 - 0.0 % for alpha=16.065 %\n",
      "Full    : 0.0 + 0.0 - 0.0 % for alpha=17.069 %\n",
      "Full    : 0.0 + 0.0 - 0.0 % for alpha=18.073 %\n",
      "Full    : 0.0 + 0.0 - 0.0 % for alpha=19.077 %\n",
      "Full    : 0.0 + 0.0 - 0.0 % for alpha=20.081 %\n",
      "Full    : 0.0 + 0.0 - 0.0 % for alpha=21.085 %\n",
      "Full    : 0.0 + 0.0 - 0.0 % for alpha=22.089 %\n",
      "Full    : 0.0 + 0.0 - 0.0 % for alpha=23.093 %\n",
      "Full    : 0.0 + 0.0 - 0.0 % for alpha=24.097 %\n",
      "Full    : 0.0 + 0.0 - 0.0 % for alpha=25.101 %\n",
      "Full    : 0.0 + 0.0 - 0.0 % for alpha=26.105 %\n",
      "Full    : 0.0 + 0.0 - 0.0 % for alpha=27.109 %\n",
      "Full    : 0.0 + 0.0 - 0.0 % for alpha=28.113 %\n",
      "Full    : 0.0 + 0.0 - 0.0 % for alpha=29.117 %\n",
      "Full    : 0.0 + 0.0 - 0.0 % for alpha=30.121 %\n",
      "Full    : 0.0 + 0.0 - 0.0 % for alpha=31.125 %\n",
      "Full    : 0.0 + 0.0 - 0.0 % for alpha=32.129 %\n",
      "Full    : 0.0 + 0.0 - 0.0 % for alpha=33.133 %\n",
      "Full    : 0.0 + 0.0 - 0.0 % for alpha=34.137 %\n",
      "Full    : 0.0 + 0.0 - 0.0 % for alpha=35.141 %\n",
      "Full    : 0.0 + 0.0 - 0.0 % for alpha=36.145 %\n",
      "Full    : 0.0 + 0.0 - 0.0 % for alpha=37.149 %\n",
      "Full    : 0.0 + 0.0 - 0.0 % for alpha=38.154 %\n",
      "Full    : 0.0 + 0.0 - 0.0 % for alpha=39.158 %\n",
      "Full    : 0.0 + 0.0 - 0.0 % for alpha=40.162 %\n",
      "Full    : 0.0 + 0.0 - 0.0 % for alpha=41.166 %\n",
      "Full    : 0.0 + 0.0 - 0.0 % for alpha=42.170 %\n",
      "Full    : 0.0 + 0.0 - 0.0 % for alpha=43.174 %\n",
      "Full    : 0.0 + 0.0 - 0.0 % for alpha=44.178 %\n",
      "Full    : 0.0 + 0.0 - 0.0 % for alpha=45.182 %\n",
      "Full    : 0.0 + 0.0 - 0.0 % for alpha=46.186 %\n",
      "Full    : 0.0 + 0.0 - 0.0 % for alpha=47.190 %\n",
      "Full    : 0.0 + 0.0 - 0.0 % for alpha=48.194 %\n",
      "Full    : 0.0 + 0.0 - 0.0 % for alpha=49.198 %\n",
      "Full    : 0.0 + 0.0 - 0.0 % for alpha=50.202 %\n",
      "Full    : 0.0 + 0.0 - 0.0 % for alpha=51.206 %\n",
      "Full    : 0.0 + 0.0 - 0.0 % for alpha=52.210 %\n",
      "Full    : 0.0 + 0.0 - 0.0 % for alpha=53.214 %\n",
      "Full    : 0.0 + 0.0 - 0.0 % for alpha=54.218 %\n",
      "Full    : 0.0 + 0.0 - 0.0 % for alpha=55.222 %\n",
      "Full    : 0.0 + 0.0 - 0.0 % for alpha=56.226 %\n",
      "Full    : 0.0 + 0.0 - 0.0 % for alpha=57.230 %\n",
      "Full    : 0.0 + 0.0 - 0.0 % for alpha=58.234 %\n",
      "Full    : 0.0 + 0.0 - 0.0 % for alpha=59.238 %\n",
      "Full    : 0.0 + 0.0 - 0.0 % for alpha=60.242 %\n",
      "Full    : 0.0 + 0.0 - 0.0 % for alpha=61.246 %\n",
      "Full    : 0.0 + 0.0 - 0.0 % for alpha=62.251 %\n",
      "Full    : 0.0 + 0.0 - 0.0 % for alpha=63.255 %\n",
      "Full    : 0.0 + 0.0 - 0.0 % for alpha=64.259 %\n",
      "Full    : 0.0 + 0.0 - 0.0 % for alpha=65.263 %\n",
      "Full    : 0.0 + 0.0 - 0.0 % for alpha=66.267 %\n",
      "Full    : 0.0 + 0.0 - 0.0 % for alpha=67.271 %\n",
      "Full    : 0.0 + 0.0 - 0.0 % for alpha=68.275 %\n",
      "Full    : 0.0 + 0.0 - 0.0 % for alpha=69.279 %\n",
      "Full    : 0.0 + 0.0 - 0.0 % for alpha=70.283 %\n",
      "Full    : 0.0 + 0.0 - 0.0 % for alpha=71.287 %\n",
      "Full    : 0.0 + 0.0 - 0.0 % for alpha=72.291 %\n",
      "Full    : 0.0 + 0.0 - 0.0 % for alpha=73.295 %\n",
      "Full    : 0.0 + 0.0 - 0.0 % for alpha=74.299 %\n",
      "Full    : 0.0 + 0.0 - 0.0 % for alpha=75.303 %\n",
      "Full    : 0.0 + 0.0 - 0.0 % for alpha=76.307 %\n",
      "Full    : 0.0 + 0.0 - 0.0 % for alpha=77.311 %\n",
      "Full    : 0.0 + 0.0 - 0.0 % for alpha=78.315 %\n",
      "Full    : 0.0 + 0.0 - 0.0 % for alpha=79.319 %\n",
      "Full    : 0.0 + 0.0 - 0.0 % for alpha=80.323 %\n",
      "Full    : 0.0 + 0.0 - 0.0 % for alpha=81.327 %\n",
      "Full    : 0.0 + 0.0 - 0.0 % for alpha=82.331 %\n",
      "Full    : 0.0 + 0.0 - 0.0 % for alpha=83.335 %\n",
      "Full    : 0.0 + 0.0 - 0.0 % for alpha=84.339 %\n",
      "Full    : 0.0 + 0.0 - 0.0 % for alpha=85.343 %\n",
      "Full    : 0.0 + 0.0 - 0.0 % for alpha=86.347 %\n",
      "Full    : 0.0 + 0.0 - 0.0 % for alpha=87.352 %\n",
      "Full    : 0.0 + 0.0 - 0.0 % for alpha=88.356 %\n",
      "Full    : 0.0 + 0.0 - 0.0 % for alpha=89.360 %\n",
      "Full    : 0.0 + 0.0 - 0.0 % for alpha=90.364 %\n",
      "Full    : 0.0 + 0.0 - 0.0 % for alpha=91.368 %\n",
      "Full    : 0.0 + 0.0 - 0.0 % for alpha=92.372 %\n",
      "Full    : 0.0 + 0.0 - 0.0 % for alpha=93.376 %\n",
      "Full    : 0.0 + 0.0 - 0.0 % for alpha=94.380 %\n",
      "Full    : 0.0 + 0.0 - 0.0 % for alpha=95.384 %\n",
      "Full    : 0.0 + 0.0 - 0.0 % for alpha=96.388 %\n",
      "Full    : 0.0 + 0.0 - 0.0 % for alpha=97.392 %\n",
      "Full    : 0.0 + 0.0 - 0.0 % for alpha=98.396 %\n",
      "Full    : 0.0 + 0.0 - 0.0 % for alpha=99.400 %\n",
      "Full    : 0.0 + 0.0 - 0.0 % for alpha=99.500 %\n",
      "Full    : 0.0 + 0.0 - 0.0 % for alpha=99.510 %\n",
      "Full    : 0.0 + 0.0 - 0.0 % for alpha=99.520 %\n",
      "Full    : 0.0 + 0.0 - 0.0 % for alpha=99.530 %\n",
      "Full    : 0.0 + 0.0 - 0.0 % for alpha=99.540 %\n",
      "Full    : 0.0 + 0.0 - 0.0 % for alpha=99.550 %\n",
      "Full    : 0.0 + 0.0 - 0.0 % for alpha=99.560 %\n",
      "Full    : 0.0 + 0.0 - 0.0 % for alpha=99.570 %\n",
      "Full    : 0.0 + 0.0 - 0.0 % for alpha=99.580 %\n",
      "Full    : 0.0 + 0.0 - 0.0 % for alpha=99.590 %\n",
      "Full    : 0.0 + 0.0 - 0.0 % for alpha=99.600 %\n",
      "Full    : 0.0 + 0.0 - 0.0 % for alpha=99.610 %\n",
      "Full    : 0.0 + 0.0 - 0.0 % for alpha=99.620 %\n",
      "Full    : 0.0 + 0.0 - 0.0 % for alpha=99.630 %\n",
      "Full    : 0.0 + 0.0 - 0.0 % for alpha=99.640 %\n",
      "Full    : 0.0 + 0.0 - 0.0 % for alpha=99.650 %\n",
      "Full    : 0.0 + 0.0 - 0.0 % for alpha=99.660 %\n",
      "Full    : 0.0 + 0.0 - 0.0 % for alpha=99.670 %\n",
      "Full    : 0.0 + 0.0 - 0.0 % for alpha=99.680 %\n",
      "Full    : 0.0 + 0.0 - 0.0 % for alpha=99.690 %\n",
      "Full    : 0.0 + 0.0 - 0.0 % for alpha=99.700 %\n",
      "Full    : 0.0 + 0.0 - 0.0 % for alpha=99.710 %\n",
      "Full    : 0.0 + 0.0 - 0.0 % for alpha=99.720 %\n",
      "Full    : 0.0 + 0.0 - 0.0 % for alpha=99.730 %\n",
      "Full    : 0.0 + 0.0 - 0.0 % for alpha=99.740 %\n",
      "Full    : 0.0 + 0.0 - 0.0 % for alpha=99.750 %\n",
      "Full    : 0.0 + 0.0 - 0.0 % for alpha=99.760 %\n",
      "Full    : 0.0 + 0.0 - 0.0 % for alpha=99.770 %\n",
      "Full    : 0.0 + 0.0 - 0.0 % for alpha=99.780 %\n",
      "Full    : 0.0 + 0.0 - 0.0 % for alpha=99.790 %\n",
      "Full    : 0.0 + 0.0 - 0.0 % for alpha=99.800 %\n",
      "Full    : 0.0 + 0.0 - 0.0 % for alpha=99.810 %\n",
      "Full    : 0.0 + 0.0 - 0.0 % for alpha=99.820 %\n",
      "Full    : 0.0 + 0.0 - 0.0 % for alpha=99.830 %\n",
      "Full    : 0.0 + 0.0 - 0.0 % for alpha=99.840 %\n",
      "Full    : 0.0 + 0.0 - 0.0 % for alpha=99.850 %\n",
      "Full    : 0.0 + 0.0 - 0.0 % for alpha=99.860 %\n",
      "Full    : 0.0 + 0.0 - 0.0 % for alpha=99.870 %\n",
      "Full    : 0.0 + 0.0 - 0.0 % for alpha=99.880 %\n",
      "Full    : 0.0 + 0.0 - 0.0 % for alpha=99.890 %\n",
      "Full    : 0.0 + 0.0 - 0.0 % for alpha=99.900 %\n",
      "Full    : 0.0 + 0.0 - 0.0 % for alpha=99.910 %\n",
      "Full    : 0.0 + 0.0 - 0.0 % for alpha=99.920 %\n",
      "Full    : 0.0 + 0.0 - 0.0 % for alpha=99.930 %\n",
      "Full    : 0.0 + 0.0 - 0.0 % for alpha=99.940 %\n",
      "Full    : 0.0 + 0.0 - 0.0 % for alpha=99.950 %\n",
      "Full    : 0.0 + 0.0 - 0.0 % for alpha=99.960 %\n",
      "Full    : 0.0 + 0.0 - 0.0 % for alpha=99.970 %\n",
      "Full    : 0.0 + 0.0 - 0.0 % for alpha=99.980 %\n",
      "Full    : 0.0 + 0.0 - 0.0 % for alpha=99.990 %\n",
      "Full    : 0.0 + 0.0 - 0.0 % for alpha=100.000 %\n"
     ]
    }
   ],
   "source": [
    "alpha_vec = np.concatenate((np.linspace(0.00, 0.994, num=100), np.linspace(0.995, 1.0, num=51)))\n",
    "coverage_gauss, coverage_gauss_lo, coverage_gauss_hi = run_inference_test(log_prob, true_log_prob, alpha_vec,\n",
    "                                                                              title='Gaussian Lhood', show=False)"
   ]
  },
  {
   "cell_type": "code",
   "execution_count": 30,
   "id": "78a93342",
   "metadata": {},
   "outputs": [
    {
     "ename": "NameError",
     "evalue": "name 'prob' is not defined",
     "output_type": "error",
     "traceback": [
      "\u001b[0;31m---------------------------------------------------------------------------\u001b[0m",
      "\u001b[0;31mNameError\u001b[0m                                 Traceback (most recent call last)",
      "Cell \u001b[0;32mIn[30], line 1\u001b[0m\n\u001b[0;32m----> 1\u001b[0m inference_test_plot(alpha_vec, \u001b[43mprob\u001b[49m, prob_lo, prob_hi,)\n",
      "\u001b[0;31mNameError\u001b[0m: name 'prob' is not defined"
     ]
    }
   ],
   "source": [
    "inference_test_plot(alpha_vec, prob, prob_lo, prob_hi,)"
   ]
  },
  {
   "cell_type": "code",
   "execution_count": 31,
   "id": "a10f8d6e",
   "metadata": {},
   "outputs": [
    {
     "name": "stdout",
     "output_type": "stream",
     "text": [
      "plotting\n"
     ]
    }
   ],
   "source": [
    "x_size = 3.5\n",
    "dpi_value = 200\n",
    "\n",
    "plt_params = {'legend.fontsize': 7,\n",
    "              'legend.frameon': False,\n",
    "              'axes.labelsize': 8,\n",
    "              'axes.titlesize': 8,\n",
    "              'figure.titlesize': 8,\n",
    "              'xtick.labelsize': 7,\n",
    "              'ytick.labelsize': 7,\n",
    "              'lines.linewidth': 1,\n",
    "              'lines.markersize': 2,\n",
    "              'errorbar.capsize': 3,\n",
    "              'font.family': 'serif',\n",
    "              # 'text.usetex': True,\n",
    "              'xtick.minor.visible': True,\n",
    "              }\n",
    "plt.rcParams.update(plt_params)\n",
    "\n",
    "print('plotting')"
   ]
  },
  {
   "cell_type": "code",
   "execution_count": 32,
   "id": "590c10fe",
   "metadata": {},
   "outputs": [
    {
     "data": {
      "image/png": "[encoded data removed]",
      "text/plain": [
       "<Figure size 700x630 with 1 Axes>"
      ]
     },
     "metadata": {},
     "output_type": "display_data"
    }
   ],
   "source": [
    "inference_fig = plt.figure(figsize=(x_size, x_size*.9), constrained_layout=True,\n",
    "                           dpi=dpi_value,\n",
    "                           )\n",
    "grid = inference_fig.add_gridspec(\n",
    "    nrows=1, ncols=1,  # height_ratios=[1, 1], width_ratios=[1, 1],\n",
    ")\n",
    "\n",
    "skew_ax = inference_fig.add_subplot(grid[0])\n",
    "\n",
    "skew_ax.plot(alpha_vec, coverage_gauss, color='black', linestyle='solid', label='inference test points', zorder=10)\n",
    "skew_ax.fill_between(alpha_vec, coverage_gauss_lo, coverage_gauss_hi, facecolor='grey', alpha=0.8, zorder=3)\n",
    "x_vec = np.linspace(0.0, 1.0, 11)\n",
    "skew_ax.plot(x_vec, x_vec, linewidth=1.5, color='red', linestyle=(0,(5,10)), zorder=20, label='inferred model')\n",
    "\n",
    "skew_ax.set_xlim((-0.01, 1.01))\n",
    "skew_ax.set_ylim((-0.01, 1.01))\n",
    "skew_ax.set_xlabel(r'$P_{{\\rm true}}$', fontsize=16)\n",
    "skew_ax.set_ylabel(r'$P_{{\\rm inf}}$', fontsize=16)\n",
    "\n",
    "\n",
    "out_path = f'/mnt/quasar2/zhenyujin/igm_emulator/hmc/plots/{z_string}/'\n",
    "inference_fig.suptitle(f'Gaussian Likelihood')\n",
    "inference_fig.savefig(out_path + f'{note}.png')"
   ]
  },
  {
   "cell_type": "code",
   "execution_count": null,
   "id": "02046283",
   "metadata": {},
   "outputs": [],
   "source": []
  }
 ],
 "metadata": {
  "kernelspec": {
   "display_name": "Python 3 (ipykernel)",
   "language": "python",
   "name": "python3"
  },
  "language_info": {
   "codemirror_mode": {
    "name": "ipython",
    "version": 3
   },
   "file_extension": ".py",
   "mimetype": "text/x-python",
   "name": "python",
   "nbconvert_exporter": "python",
   "pygments_lexer": "ipython3",
   "version": "3.9.12"
  }
 },
 "nbformat": 4,
 "nbformat_minor": 5
}

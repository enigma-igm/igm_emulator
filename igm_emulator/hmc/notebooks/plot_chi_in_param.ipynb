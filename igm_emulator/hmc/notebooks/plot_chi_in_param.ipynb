{
 "cells": [
  {
   "cell_type": "code",
   "execution_count": null,
   "id": "0ae2768d",
   "metadata": {},
   "outputs": [],
   "source": [
    "import numpy as np\n",
    "import jax.numpy as jnp\n",
    "import dill\n",
    "import sys\n",
    "import os\n",
    "sys.path.append(os.path.expanduser('~') + '/igm_emulator/igm_emulator/emulator')\n",
    "from emulator_run import nn_emulator\n",
    "sys.path.append(os.path.expanduser('~') + '/wdm/correlation')\n",
    "import matplotlib.pyplot as plt\n",
    "from matplotlib import cm\n",
    "import h5py\n",
    "import IPython\n",
    "sys.path.append(os.path.expanduser('~') + '/igm_emulator/igm_emulator/hmc')\n",
    "from nn_hmc_3d_x import NN_HMC_X"
   ]
  }
 ],
 "metadata": {
  "kernelspec": {
   "display_name": "Python 3 (ipykernel)",
   "language": "python",
   "name": "python3"
  },
  "language_info": {
   "codemirror_mode": {
    "name": "ipython",
    "version": 3
   },
   "file_extension": ".py",
   "mimetype": "text/x-python",
   "name": "python",
   "nbconvert_exporter": "python",
   "pygments_lexer": "ipython3",
   "version": "3.9.12"
  }
 },
 "nbformat": 4,
 "nbformat_minor": 5
}

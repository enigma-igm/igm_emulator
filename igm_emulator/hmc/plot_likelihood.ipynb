{
 "cells": [
  {
   "cell_type": "code",
   "execution_count": 1,
   "id": "92310101",
   "metadata": {},
   "outputs": [
    {
     "name": "stdout",
     "output_type": "stream",
     "text": [
      "<KeysViewHDF5 ['fobs_grid', 'gammas_grid', 'log_likelihood_grid', 'temps_grid', 'true_theta']>\n",
      "...\n",
      "dict_keys(['mean_data', 'covariance', 'correlation', 'condition_number', 'inv_covariance', 'sign', 'log_determinant'])\n"
     ]
    }
   ],
   "source": [
    "import dill\n",
    "import numpy as np\n",
    "from igm_emulator.emulator.plotVis import v_bins\n",
    "import h5py\n",
    "from progressbar import ProgressBar\n",
    "'''\n",
    "load model and auto-corr\n",
    "'''\n",
    "redshift = 5.4\n",
    "\n",
    "# get the appropriate string and pathlength for chosen redshift\n",
    "zs = np.array([5.4, 5.5, 5.6, 5.7, 5.8, 5.9, 6.0])\n",
    "z_idx = np.argmin(np.abs(zs - redshift))\n",
    "z_strings = ['z54', 'z55', 'z56', 'z57', 'z58', 'z59', 'z6']\n",
    "z_string = z_strings[z_idx]\n",
    "in_path_hdf5 = '/home/zhenyujin/igm_emulator/igm_emulator/emulator/best_params/'\n",
    "f = h5py.File(in_path_hdf5 + f'z{redshift}_nn_savefile.hdf5', 'r')\n",
    "emu_name = f'{z_string}_best_param_training_768.p'\n",
    "\n",
    "in_path = f'/mnt/quasar2/mawolfson/correlation_funct/temp_gamma/final/{z_string}/final_135/'\n",
    "n_paths = np.array([17, 16, 16, 15, 15, 15, 14]) #skewers_per_data\n",
    "n_path = n_paths[z_idx]\n",
    "vbins = v_bins\n",
    "param_in_path = '/mnt/quasar2/mawolfson/correlation_funct/temp_gamma/final/'\n",
    "param_dict = dill.load(open(param_in_path + f'{z_string}_params.p', 'rb'))\n",
    "\n",
    "fobs = param_dict['fobs']  # average observed flux <F> ~ Gamma_HI\n",
    "log_T0s = param_dict['log_T0s']  # log(T_0) from temperature - density relation\n",
    "T0s = np.power(10,log_T0s)\n",
    "gammas = param_dict['gammas']  # gamma from temperature - density relation\n",
    "\n",
    "best_params = dill.load(open(in_path_hdf5 + emu_name, 'rb'))\n",
    "T0_idx = 11 #0-14\n",
    "g_idx = 4 #0-8\n",
    "f_idx = 7 #0-8\n",
    "\n",
    "one_cov_name = \"z54_data_nearest_model_set_bins_4_log_like_on_grid_5_one_prior_T11_G4_F7_R_30000_one_covariance.hdf5\"\n",
    "one_cov_dict = h5py.File(in_path + one_cov_name, 'r')\n",
    "like_name = f'likelihood_dicts_R_30000_nf_9_T{T0_idx}_G{g_idx}_SNR0_F{f_idx}_ncovar_500000_P{n_path}_set_bins_4.p'\n",
    "like_dict = dill.load(open(in_path + like_name, 'rb'))\n",
    "print(one_cov_dict.keys())\n",
    "print('...')\n",
    "print(like_dict.keys())\n",
    "\n",
    "mock_name = f'mocks_R_30000_nf_9_T{T0_idx}_G{g_idx}_SNR0_F{f_idx}_P{n_path}_set_bins_4.p'\n",
    "mocks = dill.load(open(in_path + mock_name, 'rb'))\n",
    "theta_true = [fobs[f_idx], T0s[T0_idx], gammas[g_idx]]\n",
    "\n",
    "mock_flux = mocks[0:5,:]\n",
    "mean_flux = like_dict['mean_data']"
   ]
  },
  {
   "cell_type": "code",
   "execution_count": 2,
   "id": "9264a64d",
   "metadata": {},
   "outputs": [
    {
     "name": "stdout",
     "output_type": "stream",
     "text": [
      "[[1.41775714e+04 1.35200000e+00 9.90000000e-02]\n",
      " [1.41775714e+04 1.35200000e+00 9.90000000e-02]\n",
      " [1.41775714e+04 1.35200000e+00 9.90000000e-02]\n",
      " [1.41775714e+04 1.35200000e+00 9.90000000e-02]\n",
      " [1.41775714e+04 1.35200000e+00 9.90000000e-02]]\n",
      "<HDF5 dataset \"fobs_grid\": shape (33,), type \"<f8\"> <HDF5 dataset \"temps_grid\": shape (57,), type \"<f8\"> <HDF5 dataset \"gammas_grid\": shape (33,), type \"<f8\">\n",
      "<HDF5 dataset \"log_likelihood_grid\": shape (5, 57, 33, 33), type \"<f8\">\n"
     ]
    }
   ],
   "source": [
    "true_theta = np.array(one_cov_dict['true_theta'])\n",
    "print(true_theta)\n",
    "fobs_grid = one_cov_dict['fobs_grid']\n",
    "gammas_grid = one_cov_dict['gammas_grid']\n",
    "temps_grid = one_cov_dict['temps_grid']\n",
    "print(fobs_grid,temps_grid,gammas_grid)\n",
    "\n",
    "molly_loglike_grid = one_cov_dict['log_likelihood_grid']\n",
    "print(molly_loglike_grid)"
   ]
  },
  {
   "cell_type": "code",
   "execution_count": 3,
   "id": "4c2e3207",
   "metadata": {},
   "outputs": [
    {
     "name": "stdout",
     "output_type": "stream",
     "text": [
      "Layers: [100, 100, 100, 276]\n",
      "Activation: <function leaky_relu at 0x7f8b94080ae8>\n",
      "L2 regularization lambda: 0.0001\n",
      "meanX = [8.400e-02 9.149e+03 1.352e+00]\n",
      "stdX = [1.36930639e-02 5.50374022e+03 6.02494813e-01]\n",
      "train: (768, 3)\n",
      "(358, 276)\n"
     ]
    }
   ],
   "source": [
    "from nn_hmc_3d_x import NN_HMC_X\n",
    "\n",
    "nn_x = NN_HMC_X(vbins,best_params,T0s,gammas,fobs,like_dict)\n",
    "x_true = nn_x.theta_to_x(theta_true)"
   ]
  },
  {
   "cell_type": "code",
   "execution_count": null,
   "id": "29ff357e",
   "metadata": {},
   "outputs": [],
   "source": [
    "n_inference = 0\n",
    "linda_loglike_grid = np.empty([n_inference, len(fobs_grid), len(temps_grid), len(gammas_grid)])\n",
    "pbar = ProgressBar()\n",
    "\n",
    "for mock_idx in pbar(range(n_inference)):\n",
    "    flux = mocks[mock_idx, :]\n",
    "    print(\"START RUNNING\")\n",
    "    for f_plot_idx, f_plot in enumerate(fobs_grid):\n",
    "        for t_plot_idx, t_plot in enumerate(temps_grid):\n",
    "                for g_plot_idx, g_plot in enumerate(gammas_grid):\n",
    "                        linda_loglike_grid[mock_idx, f_plot_idx, t_plot_idx, g_plot_idx] =  nn_x.log_likelihood((f_plot, t_plot, g_plot), flux)"
   ]
  },
  {
   "cell_type": "code",
   "execution_count": null,
   "id": "cd13c9b8",
   "metadata": {},
   "outputs": [],
   "source": [
    "    x_size = 3.5\n",
    "    dpi_value = 200\n",
    "    plt_params = {'legend.fontsize': 7,\n",
    "                  'legend.frameon': False,\n",
    "                  'axes.labelsize': 8,\n",
    "                  'axes.titlesize': 6.5,\n",
    "                  'figure.titlesize': 8,\n",
    "                  'xtick.labelsize': 7,\n",
    "                  'ytick.labelsize': 7,\n",
    "                  'lines.linewidth': 1,\n",
    "                  'lines.markersize': 2,\n",
    "                  'errorbar.capsize': 3,\n",
    "                  'font.family': 'serif',\n",
    "                  # 'text.usetex': True,\n",
    "                  'xtick.minor.visible': True,\n",
    "                  }\n",
    "    plt.rcParams.update(plt_params)\n",
    "\n",
    "    # plot one 1d slice - temps only\n",
    "    g_plot_idx = int(np.floor(len(gammas_grid)/2.))\n",
    "    f_plot_idx = int(np.floor(len(fobs_grid)/2.))\n",
    "\n",
    "    # IPython.embed()\n",
    "\n",
    "    slice_fig = plt.figure(figsize=(x_size, x_size*.77*5.*.5), constrained_layout=True,\n",
    "                                    dpi=dpi_value,\n",
    "                                    )\n",
    "    # one_correlation_fig.set_constrained_layout_pads(w_pad=0, h_pad=0, hspace=0, wspace=0)\n",
    "    grid = slice_fig.add_gridspec(\n",
    "        nrows=5, ncols=1, # width_ratios=[20, 20, 20, 20, 20, 1],\n",
    "    )\n",
    "\n",
    "    for mock_idx in range(n_inference):\n",
    "        axes = slice_fig.add_subplot(grid[mock_idx])\n",
    "\n",
    "        axes.plot(temps_grid, linda_loglike_grid[mock_idx, f_plot_idx, :, g_plot_idx])\n",
    "\n",
    "        axes.set_ylabel('log(likelihood)')\n",
    "        axes.set_title(f'mock {mock_idx}')\n",
    "\n",
    "    axes.set_xlabel('$T_0$ (K)')"
   ]
  },
  {
   "cell_type": "code",
   "execution_count": null,
   "id": "27855aed",
   "metadata": {},
   "outputs": [],
   "source": []
  }
 ],
 "metadata": {
  "kernelspec": {
   "display_name": "Python 3",
   "language": "python",
   "name": "python3"
  },
  "language_info": {
   "codemirror_mode": {
    "name": "ipython",
    "version": 3
   },
   "file_extension": ".py",
   "mimetype": "text/x-python",
   "name": "python",
   "nbconvert_exporter": "python",
   "pygments_lexer": "ipython3",
   "version": "3.6.8"
  }
 },
 "nbformat": 4,
 "nbformat_minor": 5
}
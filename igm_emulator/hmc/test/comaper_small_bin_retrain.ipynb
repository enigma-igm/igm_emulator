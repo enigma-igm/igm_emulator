{
 "cells": [
  {
   "cell_type": "code",
   "execution_count": 1,
   "id": "ce7bf9e0",
   "metadata": {},
   "outputs": [
    {
     "name": "stdout",
     "output_type": "stream",
     "text": [
      "64\n"
     ]
    },
    {
     "name": "stderr",
     "output_type": "stream",
     "text": [
      "No GPU/TPU found, falling back to CPU. (Set TF_CPP_MIN_LOG_LEVEL=0 and rerun for more info.)\n"
     ]
    },
    {
     "name": "stdout",
     "output_type": "stream",
     "text": [
      "Training for small bin: True\n",
      "Layers: [100, 100, 100, 59]\n",
      "Activation: <PjitFunction of <function leaky_relu at 0x7fb3dec2f8b0>>\n",
      "L2 regularization lambda: 0.0001\n",
      "meanX = [8.400e-02 9.149e+03 1.352e+00]\n",
      "stdX = [1.36930639e-02 5.50374022e+03 6.02494813e-01]\n",
      "train: (768, 3)\n",
      "(358, 59)\n",
      "64\n"
     ]
    },
    {
     "name": "stderr",
     "output_type": "stream",
     "text": [
      "/home/zhenyujin/.virtualenvs/igm_emulator/lib/python3.9/site-packages/tqdm/auto.py:21: TqdmWarning: IProgress not found. Please update jupyter and ipywidgets. See https://ipywidgets.readthedocs.io/en/stable/user_install.html\n",
      "  from .autonotebook import tqdm as notebook_tqdm\n"
     ]
    }
   ],
   "source": [
    "import numpy as np\n",
    "import jax.numpy as jnp\n",
    "import dill\n",
    "import sys\n",
    "import os\n",
    "sys.path.append(os.path.expanduser('~') + '/igm_emulator/igm_emulator/emulator')\n",
    "from emulator_run import nn_emulator\n",
    "import matplotlib.pyplot as plt\n",
    "import h5py\n",
    "import IPython\n",
    "sys.path.append(os.path.expanduser('~') + '/igm_emulator/igm_emulator/hmc')\n",
    "from nn_hmc_3d_x import NN_HMC_X"
   ]
  },
  {
   "cell_type": "markdown",
   "id": "26f0d390",
   "metadata": {},
   "source": [
    "## Read in smaller bin parameters and mock data"
   ]
  },
  {
   "cell_type": "code",
   "execution_count": 2,
   "id": "0986e158",
   "metadata": {},
   "outputs": [
    {
     "name": "stdout",
     "output_type": "stream",
     "text": [
      "0.0%\n",
      "7.142857142857142%\n",
      "14.285714285714285%\n",
      "21.428571428571427%\n",
      "28.57142857142857%\n",
      "35.714285714285715%\n",
      "42.857142857142854%\n",
      "50.0%\n",
      "57.14285714285714%\n",
      "64.28571428571429%\n",
      "71.42857142857143%\n",
      "78.57142857142857%\n",
      "85.71428571428571%\n",
      "92.85714285714286%\n"
     ]
    }
   ],
   "source": [
    "true_temp_idx = 11\n",
    "true_gamma_idx = 4\n",
    "true_fobs_idx = 7\n",
    "n_inference = 5\n",
    "\n",
    "# small bin 4 -> 3\n",
    "zstr = 'z54'\n",
    "skewers_per_data = 20 #17->20\n",
    "n_covar = 500000\n",
    "bin_label = '_set_bins_3'\n",
    "in_path_molly = f'/mnt/quasar2/mawolfson/correlation_funct/temp_gamma/final_135/{zstr}/' \n",
    "#change path from f'/mnt/quasar2/mawolfson/correlation_funct/temp_gamma/final/{z_string}/final_135/'\n",
    "\n",
    "# get initial grid\n",
    "in_name_h5py = f'correlation_temp_fluct_skewers_2000_R_30000_nf_9_dict{bin_label}.hdf5'\n",
    "with h5py.File(in_path_molly + in_name_h5py, 'r') as f:\n",
    "    params = dict(f['params'].attrs.items())\n",
    "fobs = params['average_observed_flux']\n",
    "R_value = params['R']\n",
    "v_bins = params['v_bins']\n",
    "t_0s = 10.**params['logT_0']\n",
    "gammas = params['gamma']\n",
    "n_temps = len(t_0s)\n",
    "n_gammas = len(gammas)\n",
    "n_f = len(fobs)\n",
    "\n",
    "noise_idx = 0\n",
    "like_name_0 = f'likelihood_dicts_R_30000_nf_9_T{true_temp_idx}_G{true_gamma_idx}_SNR0_F{true_fobs_idx}_ncovar_500000_P{skewers_per_data}{bin_label}.p'\n",
    "like_dict_0 = dill.load(open(in_path_molly + like_name_0, 'rb'))\n",
    "in_name_new_params = f'new_covariances_dict_R_30000_nf_9_ncovar_{n_covar}_' \\\n",
    "                     f'P{skewers_per_data}{bin_label}_params.p'\n",
    "new_param_dict = dill.load(open(in_path_molly + in_name_new_params, 'rb'))\n",
    "new_temps = new_param_dict['new_temps']\n",
    "new_gammas = new_param_dict['new_gammas']\n",
    "new_fobs = new_param_dict['new_fobs']\n",
    "\n",
    "n_new_t = (len(new_temps) - 1)/(len(t_0s) - 1) - 1\n",
    "n_new_g = (len(new_gammas) - 1)/(len(gammas) - 1) - 1\n",
    "n_new_f = (len(new_fobs) - 1)/(len(fobs) - 1) - 1\n",
    "new_models_np = np.empty([len(new_temps), len(new_gammas), len(new_fobs), len(v_bins)])\n",
    "\n",
    "for old_t_below_idx in range(n_temps - 1):\n",
    "    print(f'{old_t_below_idx / (n_temps - 1) * 100}%')\n",
    "    for old_g_below_idx in range(n_gammas - 1):\n",
    "        for old_f_below_idx in range(n_f - 1):\n",
    "            fine_dict_in_name = f'new_covariances_dict_R_{int(R_value)}_nf_{n_f}_T{old_t_below_idx}_' \\\n",
    "                                f'G{old_g_below_idx}_SNR0_F{old_f_below_idx}_ncovar_{n_covar}_' \\\n",
    "                                f'P{skewers_per_data}{bin_label}.p'\n",
    "            fine_dict = dill.load(open(in_path_molly + fine_dict_in_name, 'rb'))\n",
    "            new_temps_small = fine_dict['new_temps']\n",
    "            new_gammas_small = fine_dict['new_gammas']\n",
    "            new_fobs_small = fine_dict['new_fobs']\n",
    "            new_models_small = fine_dict['new_models']\n",
    "            new_covariances_small = fine_dict['new_covariances']\n",
    "            new_log_dets_small = fine_dict['new_log_dets']\n",
    "            if old_t_below_idx == n_temps - 2:\n",
    "                added_t_range = n_new_t + 2\n",
    "            else:\n",
    "                added_t_range = n_new_t + 1\n",
    "            if old_g_below_idx == n_gammas - 2:\n",
    "                added_g_range = n_new_g + 2\n",
    "            else:\n",
    "                added_g_range = n_new_g + 1\n",
    "            if old_f_below_idx == n_f - 2:\n",
    "                added_f_range = n_new_f + 2\n",
    "            else:\n",
    "                added_f_range = n_new_f + 1\n",
    "            # print(added_f_range)\n",
    "            for added_t_idx in range(int(added_t_range)):\n",
    "                for added_g_idx in range(int(added_g_range)):\n",
    "                    for added_f_idx in range(int(added_f_range)):\n",
    "                        final_t_idx = int((old_t_below_idx * (n_new_t + 1)) + added_t_idx)\n",
    "                        final_g_idx = int((old_g_below_idx * (n_new_g + 1)) + added_g_idx)\n",
    "                        final_f_idx = int((old_f_below_idx * (n_new_f + 1)) + added_f_idx)\n",
    "                        new_models_np[final_t_idx, final_g_idx, final_f_idx, :] = new_models_small[added_t_idx, added_g_idx, added_f_idx, :]\n",
    "new_models = jnp.array(new_models_np)"
   ]
  },
  {
   "cell_type": "markdown",
   "id": "7305b355",
   "metadata": {},
   "source": [
    "## Molly's model"
   ]
  },
  {
   "cell_type": "code",
   "execution_count": 3,
   "id": "adefa823",
   "metadata": {},
   "outputs": [],
   "source": [
    "def return_idx(value, all_values):\n",
    "    the_min_value = jnp.min(all_values)\n",
    "    the_range = jnp.max(all_values) - the_min_value\n",
    "    scaled_value = (value - the_min_value) / the_range * (len(all_values) - 1)\n",
    "    nearest_idx = int(jnp.round(scaled_value))\n",
    "    return nearest_idx\n",
    "def get_molly_model_nearest(theta,\n",
    "                                  fine_temps=new_temps, fine_gammas=new_gammas, fine_fobs=new_fobs,\n",
    "                                  fine_models=new_models):\n",
    "    temp, gamma, ave_f = theta\n",
    "    temp_idx = return_idx(temp, fine_temps)\n",
    "    gamma_idx = return_idx(gamma, fine_gammas)\n",
    "    fobs_idx = return_idx(ave_f, fine_fobs)\n",
    "    model = fine_models[temp_idx, gamma_idx, fobs_idx, :]\n",
    "    return model\n",
    "def log_likelihood_molly(theta, corr, theta_covariance=like_dict_0['covariance']\n",
    "                         , true_log_det=like_dict_0['log_determinant']):\n",
    "    # temp, g, ave_f = theta\n",
    "    model = get_molly_model_nearest(theta)\n",
    "    diff = corr - model\n",
    "    nbins = len(corr)\n",
    "    log_like = -(jnp.dot(diff, jnp.linalg.solve(theta_covariance, diff)) + true_log_det + nbins * jnp.log(2.0 * jnp.pi)) / 2.0\n",
    "    return diff.mean(), log_like"
   ]
  },
  {
   "cell_type": "markdown",
   "id": "f580314c",
   "metadata": {},
   "source": [
    "## Linda's model"
   ]
  },
  {
   "cell_type": "code",
   "execution_count": 4,
   "id": "b1a1b97a",
   "metadata": {},
   "outputs": [],
   "source": [
    "# get Linda's model \n",
    "#temp, gamma, ave_f = theta\n",
    "\n",
    "sys.path.append(os.path.expanduser('~') + '/igm_emulator/igm_emulator/hmc')\n",
    "from nn_hmc_3d_x import NN_HMC_X\n",
    "\n",
    "in_path_linda = '/mnt/quasar2/zhenyujin/igm_emulator/emulator/best_params/'\n",
    "emu_name = f'{zstr}_best_param_training_768_bin59.p' #small bins\n",
    "best_params = dill.load(open(in_path_linda + emu_name, 'rb'))\n",
    "nn_x = NN_HMC_X(v_bins, best_params, t_0s, gammas, fobs, like_dict_0)\n",
    "\n",
    "def get_linda_model(theta, best_params_function=best_params):\n",
    "    theta_linda = (theta[2], theta[0], theta[1])\n",
    "    model = nn_emulator(best_params_function, theta_linda)\n",
    "    return model\n",
    "\n",
    "def log_likelihood(theta, corr):\n",
    "        '''\n",
    "        Args:\n",
    "            x: dimensionless parameters\n",
    "            flux: observed flux\n",
    "        Returns:\n",
    "            log_likelihood: log likelihood\n",
    "        '''\n",
    "        model = get_linda_model(theta) #theta is in physical dimension for this function\n",
    "        #model = get_molly_model_nearest(theta) #replace same model\n",
    "\n",
    "        new_covariance = nn_x.like_dict['covariance']\n",
    "        log_determinant = nn_x.like_dict['log_determinant']\n",
    "\n",
    "        diff = corr - model\n",
    "        nbins = len(nn_x.vbins)\n",
    "        log_like = -(jnp.dot(diff, jnp.linalg.solve(new_covariance, diff)) + log_determinant + nbins * jnp.log(\n",
    "            2.0 * jnp.pi)) / 2.0\n",
    "        #print(f'Log_likelihood={log_like}')\n",
    "        return diff.mean(), log_like\n",
    "\n",
    "def log_likelihood_linda(theta, corr):\n",
    "    theta = np.array(theta)\n",
    "    theta_linda = (theta[2], theta[0], theta[1])\n",
    "    theta_linda_x = nn_x.theta_to_x(theta_linda)\n",
    "    diff, ll_linda = nn_x.log_likelihood(theta_linda_x, corr)\n",
    "    return nn_x.log_likelihood(theta_linda_x, corr)\n",
    "\n",
    "# read in the mock data\n",
    "mock_name = f'mocks_R_{int(R_value)}_nf_{n_f}_T{true_temp_idx}_G{true_gamma_idx}_SNR{noise_idx}_F{true_fobs_idx}_P{skewers_per_data}{bin_label}.p'\n",
    "mocks = dill.load(open(in_path_molly + mock_name, 'rb'))"
   ]
  },
  {
   "cell_type": "code",
   "execution_count": 5,
   "id": "b5961168",
   "metadata": {},
   "outputs": [
    {
     "ename": "TypeError",
     "evalue": "mul got incompatible shapes for broadcasting: (59,), (276,).",
     "output_type": "error",
     "traceback": [
      "\u001b[0;31m---------------------------------------------------------------------------\u001b[0m",
      "\u001b[0;31mTypeError\u001b[0m                                 Traceback (most recent call last)",
      "Cell \u001b[0;32mIn[5], line 4\u001b[0m\n\u001b[1;32m      2\u001b[0m n_samples \u001b[38;5;241m=\u001b[39m \u001b[38;5;241m5\u001b[39m\n\u001b[1;32m      3\u001b[0m \u001b[38;5;28;01mfor\u001b[39;00m mock_idx \u001b[38;5;129;01min\u001b[39;00m \u001b[38;5;28mrange\u001b[39m(\u001b[38;5;241m2\u001b[39m):\n\u001b[0;32m----> 4\u001b[0m     \u001b[38;5;28mprint\u001b[39m(\u001b[43mlog_likelihood\u001b[49m\u001b[43m(\u001b[49m\u001b[43msample\u001b[49m\u001b[43m,\u001b[49m\u001b[43mmocks\u001b[49m\u001b[43m[\u001b[49m\u001b[43mmock_idx\u001b[49m\u001b[43m]\u001b[49m\u001b[43m)\u001b[49m)\n\u001b[1;32m      5\u001b[0m     \u001b[38;5;28mprint\u001b[39m(log_likelihood_linda(sample,mocks[mock_idx]))\n",
      "Cell \u001b[0;32mIn[4], line 25\u001b[0m, in \u001b[0;36mlog_likelihood\u001b[0;34m(theta, corr)\u001b[0m\n\u001b[1;32m     17\u001b[0m \u001b[38;5;28;01mdef\u001b[39;00m \u001b[38;5;21mlog_likelihood\u001b[39m(theta, corr):\n\u001b[1;32m     18\u001b[0m \u001b[38;5;250m        \u001b[39m\u001b[38;5;124;03m'''\u001b[39;00m\n\u001b[1;32m     19\u001b[0m \u001b[38;5;124;03m        Args:\u001b[39;00m\n\u001b[1;32m     20\u001b[0m \u001b[38;5;124;03m            x: dimensionless parameters\u001b[39;00m\n\u001b[0;32m   (...)\u001b[0m\n\u001b[1;32m     23\u001b[0m \u001b[38;5;124;03m            log_likelihood: log likelihood\u001b[39;00m\n\u001b[1;32m     24\u001b[0m \u001b[38;5;124;03m        '''\u001b[39;00m\n\u001b[0;32m---> 25\u001b[0m         model \u001b[38;5;241m=\u001b[39m \u001b[43mget_linda_model\u001b[49m\u001b[43m(\u001b[49m\u001b[43mtheta\u001b[49m\u001b[43m)\u001b[49m \u001b[38;5;66;03m#theta is in physical dimension for this function\u001b[39;00m\n\u001b[1;32m     26\u001b[0m         \u001b[38;5;66;03m#model = get_molly_model_nearest(theta) #replace same model\u001b[39;00m\n\u001b[1;32m     28\u001b[0m         new_covariance \u001b[38;5;241m=\u001b[39m nn_x\u001b[38;5;241m.\u001b[39mlike_dict[\u001b[38;5;124m'\u001b[39m\u001b[38;5;124mcovariance\u001b[39m\u001b[38;5;124m'\u001b[39m]\n",
      "Cell \u001b[0;32mIn[4], line 14\u001b[0m, in \u001b[0;36mget_linda_model\u001b[0;34m(theta, best_params_function)\u001b[0m\n\u001b[1;32m     12\u001b[0m \u001b[38;5;28;01mdef\u001b[39;00m \u001b[38;5;21mget_linda_model\u001b[39m(theta, best_params_function\u001b[38;5;241m=\u001b[39mbest_params):\n\u001b[1;32m     13\u001b[0m     theta_linda \u001b[38;5;241m=\u001b[39m (theta[\u001b[38;5;241m2\u001b[39m], theta[\u001b[38;5;241m0\u001b[39m], theta[\u001b[38;5;241m1\u001b[39m])\n\u001b[0;32m---> 14\u001b[0m     model \u001b[38;5;241m=\u001b[39m \u001b[43mnn_emulator\u001b[49m\u001b[43m(\u001b[49m\u001b[43mbest_params_function\u001b[49m\u001b[43m,\u001b[49m\u001b[43m \u001b[49m\u001b[43mtheta_linda\u001b[49m\u001b[43m)\u001b[49m\n\u001b[1;32m     15\u001b[0m     \u001b[38;5;28;01mreturn\u001b[39;00m model\n",
      "File \u001b[0;32m~/igm_emulator/igm_emulator/emulator/emulator_run.py:30\u001b[0m, in \u001b[0;36mnn_emulator\u001b[0;34m(best_params, theta)\u001b[0m\n\u001b[1;32m     28\u001b[0m x \u001b[38;5;241m=\u001b[39m (theta \u001b[38;5;241m-\u001b[39m meanX)\u001b[38;5;241m/\u001b[39m stdX\n\u001b[1;32m     29\u001b[0m model \u001b[38;5;241m=\u001b[39m custom_forward\u001b[38;5;241m.\u001b[39mapply(params\u001b[38;5;241m=\u001b[39mbest_params, x\u001b[38;5;241m=\u001b[39mx)\n\u001b[0;32m---> 30\u001b[0m model \u001b[38;5;241m=\u001b[39m \u001b[43mmodel\u001b[49m\u001b[43m \u001b[49m\u001b[38;5;241;43m*\u001b[39;49m\u001b[43m \u001b[49m\u001b[43mstdY\u001b[49m \u001b[38;5;241m+\u001b[39m meanY\n\u001b[1;32m     31\u001b[0m \u001b[38;5;28;01mreturn\u001b[39;00m model\n",
      "File \u001b[0;32m~/.virtualenvs/igm_emulator/lib/python3.9/site-packages/jax/_src/numpy/lax_numpy.py:5112\u001b[0m, in \u001b[0;36m_defer_to_unrecognized_arg.<locals>.deferring_binary_op\u001b[0;34m(self, other)\u001b[0m\n\u001b[1;32m   5110\u001b[0m args \u001b[38;5;241m=\u001b[39m (other, \u001b[38;5;28mself\u001b[39m) \u001b[38;5;28;01mif\u001b[39;00m swap \u001b[38;5;28;01melse\u001b[39;00m (\u001b[38;5;28mself\u001b[39m, other)\n\u001b[1;32m   5111\u001b[0m \u001b[38;5;28;01mif\u001b[39;00m \u001b[38;5;28misinstance\u001b[39m(other, _accepted_binop_types):\n\u001b[0;32m-> 5112\u001b[0m   \u001b[38;5;28;01mreturn\u001b[39;00m \u001b[43mbinary_op\u001b[49m\u001b[43m(\u001b[49m\u001b[38;5;241;43m*\u001b[39;49m\u001b[43margs\u001b[49m\u001b[43m)\u001b[49m\n\u001b[1;32m   5113\u001b[0m \u001b[38;5;28;01mif\u001b[39;00m \u001b[38;5;28misinstance\u001b[39m(other, _rejected_binop_types):\n\u001b[1;32m   5114\u001b[0m   \u001b[38;5;28;01mraise\u001b[39;00m \u001b[38;5;167;01mTypeError\u001b[39;00m(\u001b[38;5;124mf\u001b[39m\u001b[38;5;124m\"\u001b[39m\u001b[38;5;124munsupported operand type(s) for \u001b[39m\u001b[38;5;132;01m{\u001b[39;00mopchar\u001b[38;5;132;01m}\u001b[39;00m\u001b[38;5;124m: \u001b[39m\u001b[38;5;124m\"\u001b[39m\n\u001b[1;32m   5115\u001b[0m                   \u001b[38;5;124mf\u001b[39m\u001b[38;5;124m\"\u001b[39m\u001b[38;5;132;01m{\u001b[39;00m\u001b[38;5;28mtype\u001b[39m(args[\u001b[38;5;241m0\u001b[39m])\u001b[38;5;241m.\u001b[39m\u001b[38;5;18m__name__\u001b[39m\u001b[38;5;132;01m!r}\u001b[39;00m\u001b[38;5;124m and \u001b[39m\u001b[38;5;132;01m{\u001b[39;00m\u001b[38;5;28mtype\u001b[39m(args[\u001b[38;5;241m1\u001b[39m])\u001b[38;5;241m.\u001b[39m\u001b[38;5;18m__name__\u001b[39m\u001b[38;5;132;01m!r}\u001b[39;00m\u001b[38;5;124m\"\u001b[39m)\n",
      "    \u001b[0;31m[... skipping hidden 12 frame]\u001b[0m\n",
      "File \u001b[0;32m~/.virtualenvs/igm_emulator/lib/python3.9/site-packages/jax/_src/numpy/ufuncs.py:96\u001b[0m, in \u001b[0;36m_maybe_bool_binop.<locals>.fn\u001b[0;34m(x1, x2)\u001b[0m\n\u001b[1;32m     94\u001b[0m \u001b[38;5;28;01mdef\u001b[39;00m \u001b[38;5;21mfn\u001b[39m(x1, x2, \u001b[38;5;241m/\u001b[39m):\n\u001b[1;32m     95\u001b[0m   x1, x2 \u001b[38;5;241m=\u001b[39m _promote_args(numpy_fn\u001b[38;5;241m.\u001b[39m\u001b[38;5;18m__name__\u001b[39m, x1, x2)\n\u001b[0;32m---> 96\u001b[0m   \u001b[38;5;28;01mreturn\u001b[39;00m \u001b[43mlax_fn\u001b[49m\u001b[43m(\u001b[49m\u001b[43mx1\u001b[49m\u001b[43m,\u001b[49m\u001b[43m \u001b[49m\u001b[43mx2\u001b[49m\u001b[43m)\u001b[49m \u001b[38;5;28;01mif\u001b[39;00m x1\u001b[38;5;241m.\u001b[39mdtype \u001b[38;5;241m!=\u001b[39m np\u001b[38;5;241m.\u001b[39mbool_ \u001b[38;5;28;01melse\u001b[39;00m bool_lax_fn(x1, x2)\n",
      "    \u001b[0;31m[... skipping hidden 7 frame]\u001b[0m\n",
      "File \u001b[0;32m~/.virtualenvs/igm_emulator/lib/python3.9/site-packages/jax/_src/lax/lax.py:1617\u001b[0m, in \u001b[0;36mbroadcasting_shape_rule\u001b[0;34m(name, *avals)\u001b[0m\n\u001b[1;32m   1615\u001b[0m       result_shape\u001b[38;5;241m.\u001b[39mappend(non_1s[\u001b[38;5;241m0\u001b[39m])\n\u001b[1;32m   1616\u001b[0m     \u001b[38;5;28;01melse\u001b[39;00m:\n\u001b[0;32m-> 1617\u001b[0m       \u001b[38;5;28;01mraise\u001b[39;00m \u001b[38;5;167;01mTypeError\u001b[39;00m(\u001b[38;5;124mf\u001b[39m\u001b[38;5;124m'\u001b[39m\u001b[38;5;132;01m{\u001b[39;00mname\u001b[38;5;132;01m}\u001b[39;00m\u001b[38;5;124m got incompatible shapes for broadcasting: \u001b[39m\u001b[38;5;124m'\u001b[39m\n\u001b[1;32m   1618\u001b[0m                       \u001b[38;5;124mf\u001b[39m\u001b[38;5;124m'\u001b[39m\u001b[38;5;132;01m{\u001b[39;00m\u001b[38;5;124m\"\u001b[39m\u001b[38;5;124m, \u001b[39m\u001b[38;5;124m\"\u001b[39m\u001b[38;5;241m.\u001b[39mjoin(\u001b[38;5;28mmap\u001b[39m(\u001b[38;5;28mstr\u001b[39m,\u001b[38;5;250m \u001b[39m\u001b[38;5;28mmap\u001b[39m(\u001b[38;5;28mtuple\u001b[39m,\u001b[38;5;250m \u001b[39mshapes)))\u001b[38;5;132;01m}\u001b[39;00m\u001b[38;5;124m.\u001b[39m\u001b[38;5;124m'\u001b[39m)\n\u001b[1;32m   1620\u001b[0m \u001b[38;5;28;01mreturn\u001b[39;00m \u001b[38;5;28mtuple\u001b[39m(result_shape)\n",
      "\u001b[0;31mTypeError\u001b[0m: mul got incompatible shapes for broadcasting: (59,), (276,)."
     ]
    }
   ],
   "source": [
    "sample = [t_0s[true_temp_idx],gammas[true_gamma_idx],fobs[true_fobs_idx]]\n",
    "n_samples = 5\n",
    "for mock_idx in range(2):\n",
    "    print(log_likelihood(sample,mocks[mock_idx]))\n",
    "    print(log_likelihood_linda(sample,mocks[mock_idx]))"
   ]
  },
  {
   "cell_type": "markdown",
   "id": "217489e6",
   "metadata": {},
   "source": [
    "## Plot chi2 per dof for two models"
   ]
  },
  {
   "cell_type": "code",
   "execution_count": null,
   "id": "3748bdaa",
   "metadata": {},
   "outputs": [],
   "source": [
    "emu_path = os.path.expanduser('~') + f'/igm_emulator/igm_emulator/emulator/best_params/'\n",
    "#change retrain param\n",
    "with h5py.File(emu_path+'z5.4_nn_bin59_savefile.hdf5', 'r') as f:\n",
    "    # IPython.embed()\n",
    "    residual = np.asarray(f['performance']['residuals'])\n",
    "    meanY = np.asarray(f['data']['meanY'])\n",
    "    stdY = np.asarray(f['data']['stdY'])\n",
    "    print(f['data'].keys())\n",
    "    print(f['performance'].attrs.keys())\n",
    "\n",
    "dir_lhs = os.path.expanduser('~') + '/igm_emulator/igm_emulator/emulator/GRID/'\n",
    "\n",
    "test_num = '_test_89_bin59'\n",
    "Y_test = dill.load(open(dir_lhs + f'{zstr}_model{test_num}.p', 'rb'))\n",
    "X_test = dill.load(open(dir_lhs + f'{zstr}_param{test_num}.p', 'rb'))\n",
    "#Y_test = (Y_test - meanY) / stdY\n",
    "\n",
    "diff = residual * Y_test\n",
    "chi2 = []\n",
    "chi2_molly = []\n",
    "print(diff.shape)\n",
    "for d_i, d in enumerate(diff):\n",
    "    chi2.append(jnp.dot(d, jnp.linalg.solve(like_dict_0['covariance'], d))) \n",
    "    diff_molly = get_molly_model_nearest(X_test[d_i,:]) - Y_test[d_i,:]\n",
    "    chi2_molly.append(jnp.dot(diff_molly, jnp.linalg.solve(like_dict_0['covariance'], diff_molly)))\n",
    "chi2 = np.array(chi2)\n",
    "chi2_molly = np.array(chi2_molly)\n",
    "chi2_dof = chi2/Y_test.shape[1]\n",
    "chi2_molly_dof = chi2_molly/Y_test.shape[1]\n",
    "print(Y_test.shape[1])"
   ]
  },
  {
   "cell_type": "code",
   "execution_count": null,
   "id": "f67ed522",
   "metadata": {},
   "outputs": [],
   "source": [
    "with h5py.File(emu_path+'z5.4_nn_bin59_savefile.hdf5', 'r') as f:\n",
    "    print('smaller bin')\n",
    "    print(f['performance'].attrs['residuals_results'])\n",
    "    print(f['performance'].attrs['R2'])\n",
    "\n",
    "with h5py.File(emu_path+'z5.4_nn_savefile.hdf5', 'r') as f:\n",
    "    print('larger bin')\n",
    "    print(f['performance'].attrs['residuals_results'])\n",
    "    print(f['performance'].attrs['R2'])"
   ]
  },
  {
   "cell_type": "code",
   "execution_count": null,
   "id": "eb1293a2",
   "metadata": {},
   "outputs": [],
   "source": [
    "plt.figure()\n",
    "\n",
    "plt.plot(np.arange(len(chi2)), np.ones_like(chi2), linewidth=0.5,label = r'$\\chi^2$=1')\n",
    "plt.plot(np.arange(len(chi2)), chi2_dof, linewidth=0.5, color = 'g',label='linda')\n",
    "plt.plot(np.arange(len(chi2)), chi2_molly_dof, linewidth=0.5, color = 'r',label='molly')\n",
    "\n",
    "plt.xlabel(r'Velocity [$km s^{-1}$]')\n",
    "plt.ylabel(r'$\\chi^2$')\n",
    "#plt.title(f'%Residual plot:mean: {np.mean(diff)}; std: {np.std(diff)}')\n",
    "plt.legend()"
   ]
  },
  {
   "cell_type": "markdown",
   "id": "59e7fff9",
   "metadata": {},
   "source": [
    "## Plot likelihood slice shape in smaller bin retrained emulator"
   ]
  },
  {
   "cell_type": "code",
   "execution_count": null,
   "id": "7a27c3c7",
   "metadata": {},
   "outputs": [],
   "source": []
  }
 ],
 "metadata": {
  "kernelspec": {
   "display_name": "Python 3 (ipykernel)",
   "language": "python",
   "name": "python3"
  },
  "language_info": {
   "codemirror_mode": {
    "name": "ipython",
    "version": 3
   },
   "file_extension": ".py",
   "mimetype": "text/x-python",
   "name": "python",
   "nbconvert_exporter": "python",
   "pygments_lexer": "ipython3",
   "version": "3.9.12"
  }
 },
 "nbformat": 4,
 "nbformat_minor": 5
}

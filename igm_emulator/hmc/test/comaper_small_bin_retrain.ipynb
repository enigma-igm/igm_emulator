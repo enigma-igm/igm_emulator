{
 "cells": [
  {
   "cell_type": "code",
   "execution_count": 1,
   "id": "ce7bf9e0",
   "metadata": {},
   "outputs": [
    {
     "name": "stdout",
     "output_type": "stream",
     "text": [
      "64\n"
     ]
    },
    {
     "name": "stderr",
     "output_type": "stream",
     "text": [
      "No GPU/TPU found, falling back to CPU. (Set TF_CPP_MIN_LOG_LEVEL=0 and rerun for more info.)\n"
     ]
    },
    {
     "name": "stdout",
     "output_type": "stream",
     "text": [
      "Training for small bin: True\n",
      "Layers: [100, 100, 100, 59]\n",
      "Activation: <PjitFunction of <function leaky_relu at 0x7f581dee28b0>>\n",
      "L2 regularization lambda: 0.0001\n",
      "meanX = [8.400e-02 9.149e+03 1.352e+00]\n",
      "stdX = [1.36930639e-02 5.50374022e+03 6.02494813e-01]\n",
      "train: (768, 3)\n",
      "(358, 59)\n",
      "<KeysViewHDF5 ['data', 'haiku_nn', 'performance']>\n",
      "64\n"
     ]
    },
    {
     "name": "stderr",
     "output_type": "stream",
     "text": [
      "/home/zhenyujin/.virtualenvs/igm_emulator/lib/python3.9/site-packages/tqdm/auto.py:21: TqdmWarning: IProgress not found. Please update jupyter and ipywidgets. See https://ipywidgets.readthedocs.io/en/stable/user_install.html\n",
      "  from .autonotebook import tqdm as notebook_tqdm\n"
     ]
    }
   ],
   "source": [
    "import numpy as np\n",
    "import jax.numpy as jnp\n",
    "import dill\n",
    "import sys\n",
    "import os\n",
    "sys.path.append(os.path.expanduser('~') + '/igm_emulator/igm_emulator/emulator')\n",
    "from emulator_run import nn_emulator\n",
    "import matplotlib.pyplot as plt\n",
    "import h5py\n",
    "import IPython\n",
    "sys.path.append(os.path.expanduser('~') + '/igm_emulator/igm_emulator/hmc')\n",
    "from nn_hmc_3d_x import NN_HMC_X"
   ]
  },
  {
   "cell_type": "code",
   "execution_count": 2,
   "id": "4a328b7b",
   "metadata": {},
   "outputs": [
    {
     "name": "stdout",
     "output_type": "stream",
     "text": [
      "<KeysViewHDF5 ['best_params']>\n"
     ]
    }
   ],
   "source": [
    "in_path_hdf5 = '/mnt/quasar2/zhenyujin/igm_emulator/emulator/best_params/'\n",
    "redshift = 5.4\n",
    "\n",
    "f = h5py.File(in_path_hdf5 + f'z{redshift}_nn_bin59_savefile.hdf5', 'r')\n",
    "print(f.keys())"
   ]
  },
  {
   "cell_type": "markdown",
   "id": "26f0d390",
   "metadata": {},
   "source": [
    "## Read in smaller bin parameters and mock data"
   ]
  },
  {
   "cell_type": "code",
   "execution_count": 3,
   "id": "0986e158",
   "metadata": {},
   "outputs": [
    {
     "name": "stdout",
     "output_type": "stream",
     "text": [
      "0.0%\n",
      "7.142857142857142%\n",
      "14.285714285714285%\n",
      "21.428571428571427%\n",
      "28.57142857142857%\n",
      "35.714285714285715%\n",
      "42.857142857142854%\n",
      "50.0%\n",
      "57.14285714285714%\n",
      "64.28571428571429%\n",
      "71.42857142857143%\n",
      "78.57142857142857%\n",
      "85.71428571428571%\n",
      "92.85714285714286%\n"
     ]
    }
   ],
   "source": [
    "true_temp_idx = 11\n",
    "true_gamma_idx = 4\n",
    "true_fobs_idx = 7\n",
    "n_inference = 5\n",
    "\n",
    "# small bin 4 -> 3\n",
    "zstr = 'z54'\n",
    "skewers_per_data = 20 #17->20\n",
    "n_covar = 500000\n",
    "bin_label = '_set_bins_3'\n",
    "in_path_molly = f'/mnt/quasar2/mawolfson/correlation_funct/temp_gamma/final_135/{zstr}/' \n",
    "#change path from f'/mnt/quasar2/mawolfson/correlation_funct/temp_gamma/final/{z_string}/final_135/'\n",
    "\n",
    "# get initial grid\n",
    "in_name_h5py = f'correlation_temp_fluct_skewers_2000_R_30000_nf_9_dict{bin_label}.hdf5'\n",
    "with h5py.File(in_path_molly + in_name_h5py, 'r') as f:\n",
    "    params = dict(f['params'].attrs.items())\n",
    "fobs = params['average_observed_flux']\n",
    "R_value = params['R']\n",
    "v_bins = params['v_bins']\n",
    "t_0s = 10.**params['logT_0']\n",
    "gammas = params['gamma']\n",
    "n_temps = len(t_0s)\n",
    "n_gammas = len(gammas)\n",
    "n_f = len(fobs)\n",
    "\n",
    "noise_idx = 0\n",
    "like_name_0 = f'likelihood_dicts_R_30000_nf_9_T{true_temp_idx}_G{true_gamma_idx}_SNR0_F{true_fobs_idx}_ncovar_500000_P{skewers_per_data}{bin_label}.p'\n",
    "like_dict_0 = dill.load(open(in_path_molly + like_name_0, 'rb'))\n",
    "in_name_new_params = f'new_covariances_dict_R_30000_nf_9_ncovar_{n_covar}_' \\\n",
    "                     f'P{skewers_per_data}{bin_label}_params.p'\n",
    "new_param_dict = dill.load(open(in_path_molly + in_name_new_params, 'rb'))\n",
    "new_temps = new_param_dict['new_temps']\n",
    "new_gammas = new_param_dict['new_gammas']\n",
    "new_fobs = new_param_dict['new_fobs']\n",
    "\n",
    "n_new_t = (len(new_temps) - 1)/(len(t_0s) - 1) - 1\n",
    "n_new_g = (len(new_gammas) - 1)/(len(gammas) - 1) - 1\n",
    "n_new_f = (len(new_fobs) - 1)/(len(fobs) - 1) - 1\n",
    "new_models_np = np.empty([len(new_temps), len(new_gammas), len(new_fobs), len(v_bins)])\n",
    "\n",
    "for old_t_below_idx in range(n_temps - 1):\n",
    "    print(f'{old_t_below_idx / (n_temps - 1) * 100}%')\n",
    "    for old_g_below_idx in range(n_gammas - 1):\n",
    "        for old_f_below_idx in range(n_f - 1):\n",
    "            fine_dict_in_name = f'new_covariances_dict_R_{int(R_value)}_nf_{n_f}_T{old_t_below_idx}_' \\\n",
    "                                f'G{old_g_below_idx}_SNR0_F{old_f_below_idx}_ncovar_{n_covar}_' \\\n",
    "                                f'P{skewers_per_data}{bin_label}.p'\n",
    "            fine_dict = dill.load(open(in_path_molly + fine_dict_in_name, 'rb'))\n",
    "            new_temps_small = fine_dict['new_temps']\n",
    "            new_gammas_small = fine_dict['new_gammas']\n",
    "            new_fobs_small = fine_dict['new_fobs']\n",
    "            new_models_small = fine_dict['new_models']\n",
    "            new_covariances_small = fine_dict['new_covariances']\n",
    "            new_log_dets_small = fine_dict['new_log_dets']\n",
    "            if old_t_below_idx == n_temps - 2:\n",
    "                added_t_range = n_new_t + 2\n",
    "            else:\n",
    "                added_t_range = n_new_t + 1\n",
    "            if old_g_below_idx == n_gammas - 2:\n",
    "                added_g_range = n_new_g + 2\n",
    "            else:\n",
    "                added_g_range = n_new_g + 1\n",
    "            if old_f_below_idx == n_f - 2:\n",
    "                added_f_range = n_new_f + 2\n",
    "            else:\n",
    "                added_f_range = n_new_f + 1\n",
    "            # print(added_f_range)\n",
    "            for added_t_idx in range(int(added_t_range)):\n",
    "                for added_g_idx in range(int(added_g_range)):\n",
    "                    for added_f_idx in range(int(added_f_range)):\n",
    "                        final_t_idx = int((old_t_below_idx * (n_new_t + 1)) + added_t_idx)\n",
    "                        final_g_idx = int((old_g_below_idx * (n_new_g + 1)) + added_g_idx)\n",
    "                        final_f_idx = int((old_f_below_idx * (n_new_f + 1)) + added_f_idx)\n",
    "                        new_models_np[final_t_idx, final_g_idx, final_f_idx, :] = new_models_small[added_t_idx, added_g_idx, added_f_idx, :]\n",
    "new_models = jnp.array(new_models_np)"
   ]
  },
  {
   "cell_type": "markdown",
   "id": "7305b355",
   "metadata": {},
   "source": [
    "## Molly's model"
   ]
  },
  {
   "cell_type": "code",
   "execution_count": 4,
   "id": "adefa823",
   "metadata": {},
   "outputs": [],
   "source": [
    "def return_idx(value, all_values):\n",
    "    the_min_value = jnp.min(all_values)\n",
    "    the_range = jnp.max(all_values) - the_min_value\n",
    "    scaled_value = (value - the_min_value) / the_range * (len(all_values) - 1)\n",
    "    nearest_idx = int(jnp.round(scaled_value))\n",
    "    return nearest_idx\n",
    "def get_molly_model_nearest(theta,\n",
    "                                  fine_temps=new_temps, fine_gammas=new_gammas, fine_fobs=new_fobs,\n",
    "                                  fine_models=new_models):\n",
    "    temp, gamma, ave_f = theta\n",
    "    temp_idx = return_idx(temp, fine_temps)\n",
    "    gamma_idx = return_idx(gamma, fine_gammas)\n",
    "    fobs_idx = return_idx(ave_f, fine_fobs)\n",
    "    model = fine_models[temp_idx, gamma_idx, fobs_idx, :]\n",
    "    return model\n",
    "def log_likelihood_molly(theta, corr, theta_covariance=like_dict_0['covariance']\n",
    "                         , true_log_det=like_dict_0['log_determinant']):\n",
    "    # temp, g, ave_f = theta\n",
    "    model = get_molly_model_nearest(theta)\n",
    "    diff = corr - model\n",
    "    nbins = len(corr)\n",
    "    log_like = -(jnp.dot(diff, jnp.linalg.solve(theta_covariance, diff)) + true_log_det + nbins * jnp.log(2.0 * jnp.pi)) / 2.0\n",
    "    return diff.mean(), log_like"
   ]
  },
  {
   "cell_type": "markdown",
   "id": "f580314c",
   "metadata": {},
   "source": [
    "## Linda's model"
   ]
  },
  {
   "cell_type": "code",
   "execution_count": 5,
   "id": "b1a1b97a",
   "metadata": {},
   "outputs": [],
   "source": [
    "# get Linda's model \n",
    "#temp, gamma, ave_f = theta\n",
    "\n",
    "sys.path.append(os.path.expanduser('~') + '/igm_emulator/igm_emulator/hmc')\n",
    "from nn_hmc_3d_x import NN_HMC_X\n",
    "\n",
    "in_path_linda = '/mnt/quasar2/zhenyujin/igm_emulator/emulator/best_params/'\n",
    "emu_name = f'{zstr}_best_param_training_768_bin59.p' #small bins\n",
    "best_params = dill.load(open(in_path_linda + emu_name, 'rb'))\n",
    "nn_x = NN_HMC_X(v_bins, best_params, t_0s, gammas, fobs, like_dict_0)\n",
    "\n",
    "def get_linda_model(theta, best_params_function=best_params):\n",
    "    theta_linda = (theta[2], theta[0], theta[1])\n",
    "    model = nn_emulator(best_params_function, theta_linda)\n",
    "    return model\n",
    "\n",
    "def log_likelihood(theta, corr):\n",
    "        '''\n",
    "        Args:\n",
    "            x: dimensionless parameters\n",
    "            flux: observed flux\n",
    "        Returns:\n",
    "            log_likelihood: log likelihood\n",
    "        '''\n",
    "        model = get_linda_model(theta) #theta is in physical dimension for this function\n",
    "        #model = get_molly_model_nearest(theta) #replace same model\n",
    "\n",
    "        new_covariance = nn_x.like_dict['covariance']\n",
    "        log_determinant = nn_x.like_dict['log_determinant']\n",
    "\n",
    "        diff = corr - model\n",
    "        nbins = len(nn_x.vbins)\n",
    "        log_like = -(jnp.dot(diff, jnp.linalg.solve(new_covariance, diff)) + log_determinant + nbins * jnp.log(\n",
    "            2.0 * jnp.pi)) / 2.0\n",
    "        #print(f'Log_likelihood={log_like}')\n",
    "        return diff.mean(), log_like\n",
    "\n",
    "def log_likelihood_linda(theta, corr):\n",
    "    theta = np.array(theta)\n",
    "    theta_linda = (theta[2], theta[0], theta[1])\n",
    "    theta_linda_x = nn_x.theta_to_x(theta_linda)\n",
    "    diff, ll_linda = nn_x.log_likelihood(theta_linda_x, corr)\n",
    "    return nn_x.log_likelihood(theta_linda_x, corr)\n",
    "\n",
    "# read in the mock data\n",
    "mock_name = f'mocks_R_{int(R_value)}_nf_{n_f}_T{true_temp_idx}_G{true_gamma_idx}_SNR{noise_idx}_F{true_fobs_idx}_P{skewers_per_data}{bin_label}.p'\n",
    "mocks = dill.load(open(in_path_molly + mock_name, 'rb'))"
   ]
  },
  {
   "cell_type": "code",
   "execution_count": 6,
   "id": "b5961168",
   "metadata": {},
   "outputs": [
    {
     "name": "stdout",
     "output_type": "stream",
     "text": [
      "(Array(-7.61603515e-05, dtype=float64), Array(442.31629087, dtype=float64))\n",
      "(Array(-7.61603515e-05, dtype=float64), Array(442.31629087, dtype=float64))\n",
      "(Array(-0.00168954, dtype=float64), Array(443.33530443, dtype=float64))\n",
      "(Array(-0.00168954, dtype=float64), Array(443.33530443, dtype=float64))\n"
     ]
    }
   ],
   "source": [
    "sample = [t_0s[true_temp_idx],gammas[true_gamma_idx],fobs[true_fobs_idx]]\n",
    "n_samples = 5\n",
    "for mock_idx in range(2):\n",
    "    print(log_likelihood(sample,mocks[mock_idx]))\n",
    "    print(log_likelihood_linda(sample,mocks[mock_idx]))"
   ]
  },
  {
   "cell_type": "markdown",
   "id": "217489e6",
   "metadata": {},
   "source": [
    "## Plot chi2 per dof for two models"
   ]
  },
  {
   "cell_type": "code",
   "execution_count": 7,
   "id": "3748bdaa",
   "metadata": {},
   "outputs": [
    {
     "name": "stdout",
     "output_type": "stream",
     "text": [
      "<KeysViewHDF5 ['meanX', 'meanY', 'stdX', 'stdY', 'test_data', 'train_data', 'vali_data']>\n",
      "<KeysViewHDF5 ['R2', 'residuals_results', 'test_loss', 'train_loss', 'vali_loss']>\n",
      "(89, 59)\n",
      "59\n"
     ]
    }
   ],
   "source": [
    "emu_path = os.path.expanduser('~') + f'/igm_emulator/igm_emulator/emulator/best_params/'\n",
    "#change retrain param\n",
    "with h5py.File(emu_path+'z5.4_nn_bin59_savefile.hdf5', 'r') as f:\n",
    "    # IPython.embed()\n",
    "    residual = np.asarray(f['performance']['residuals'])\n",
    "    meanY = np.asarray(f['data']['meanY'])\n",
    "    stdY = np.asarray(f['data']['stdY'])\n",
    "    print(f['data'].keys())\n",
    "    print(f['performance'].attrs.keys())\n",
    "\n",
    "dir_lhs = os.path.expanduser('~') + '/igm_emulator/igm_emulator/emulator/GRID/'\n",
    "\n",
    "test_num = '_test_89_bin59'\n",
    "Y_test = dill.load(open(dir_lhs + f'{zstr}_model{test_num}.p', 'rb'))\n",
    "X_test = dill.load(open(dir_lhs + f'{zstr}_param{test_num}.p', 'rb'))\n",
    "#Y_test = (Y_test - meanY) / stdY\n",
    "\n",
    "diff = residual * Y_test\n",
    "chi2 = []\n",
    "chi2_molly = []\n",
    "print(diff.shape)\n",
    "for d_i, d in enumerate(diff):\n",
    "    chi2.append(jnp.dot(d, jnp.linalg.solve(like_dict_0['covariance'], d))) \n",
    "    diff_molly = get_molly_model_nearest(X_test[d_i,:]) - Y_test[d_i,:]\n",
    "    chi2_molly.append(jnp.dot(diff_molly, jnp.linalg.solve(like_dict_0['covariance'], diff_molly)))\n",
    "chi2 = np.array(chi2)\n",
    "chi2_molly = np.array(chi2_molly)\n",
    "chi2_dof = chi2/Y_test.shape[1]\n",
    "chi2_molly_dof = chi2_molly/Y_test.shape[1]\n",
    "print(Y_test.shape[1])"
   ]
  },
  {
   "cell_type": "code",
   "execution_count": 8,
   "id": "f67ed522",
   "metadata": {},
   "outputs": [
    {
     "name": "stdout",
     "output_type": "stream",
     "text": [
      "smaller bin\n",
      "-0.005859735854472742% +/- 0.5458171577127389%\n",
      "0.9997942903689792\n",
      "larger bin\n",
      "0.026061927159740227% +/- 0.4202427281480411%\n",
      "0.9996476034059566\n"
     ]
    }
   ],
   "source": [
    "with h5py.File(emu_path+'z5.4_nn_bin59_savefile.hdf5', 'r') as f:\n",
    "    print('smaller bin')\n",
    "    print(f['performance'].attrs['residuals_results'])\n",
    "    print(f['performance'].attrs['R2'])\n",
    "\n",
    "with h5py.File(emu_path+'z5.4_nn_savefile.hdf5', 'r') as f:\n",
    "    print('larger bin')\n",
    "    print(f['performance'].attrs['residuals_results'])\n",
    "    print(f['performance'].attrs['R2'])"
   ]
  },
  {
   "cell_type": "code",
   "execution_count": 9,
   "id": "eb1293a2",
   "metadata": {},
   "outputs": [
    {
     "data": {
      "text/plain": [
       "<matplotlib.legend.Legend at 0x7f5758692df0>"
      ]
     },
     "execution_count": 9,
     "metadata": {},
     "output_type": "execute_result"
    },
    {
     "data": {
      "image/png": "[encoded data removed]",
      "text/plain": [
       "<Figure size 640x480 with 1 Axes>"
      ]
     },
     "metadata": {},
     "output_type": "display_data"
    }
   ],
   "source": [
    "plt.figure()\n",
    "\n",
    "plt.plot(np.arange(len(chi2)), np.ones_like(chi2), linewidth=0.5,label = r'$\\chi^2$=1')\n",
    "plt.plot(np.arange(len(chi2)), chi2_dof, linewidth=0.5, color = 'g',label='linda')\n",
    "plt.plot(np.arange(len(chi2)), chi2_molly_dof, linewidth=0.5, color = 'r',label='molly')\n",
    "\n",
    "plt.xlabel(r'Velocity [$km s^{-1}$]')\n",
    "plt.ylabel(r'$\\chi^2$')\n",
    "#plt.title(f'%Residual plot:mean: {np.mean(diff)}; std: {np.std(diff)}')\n",
    "plt.legend()"
   ]
  },
  {
   "cell_type": "markdown",
   "id": "59e7fff9",
   "metadata": {},
   "source": [
    "## Plot likelihood slice shape in smaller bin retrained emulator"
   ]
  },
  {
   "cell_type": "code",
   "execution_count": null,
   "id": "7a27c3c7",
   "metadata": {},
   "outputs": [],
   "source": []
  }
 ],
 "metadata": {
  "kernelspec": {
   "display_name": "Python 3 (ipykernel)",
   "language": "python",
   "name": "python3"
  },
  "language_info": {
   "codemirror_mode": {
    "name": "ipython",
    "version": 3
   },
   "file_extension": ".py",
   "mimetype": "text/x-python",
   "name": "python",
   "nbconvert_exporter": "python",
   "pygments_lexer": "ipython3",
   "version": "3.9.12"
  }
 },
 "nbformat": 4,
 "nbformat_minor": 5
}
